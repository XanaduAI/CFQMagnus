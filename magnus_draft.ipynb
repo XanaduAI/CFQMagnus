{
 "cells": [
  {
   "cell_type": "code",
   "execution_count": 1,
   "metadata": {},
   "outputs": [],
   "source": [
    "from sympy.physics.quantum import Commutator, Dagger, Operator\n",
    "from sympy import Symbol, exp, expand, simplify, collect, solve, Eq\n",
    "from sympy.matrices import Matrix\n",
    "import sympy as sp\n",
    "\n",
    "import numpy as np"
   ]
  },
  {
   "cell_type": "code",
   "execution_count": 64,
   "metadata": {},
   "outputs": [],
   "source": [
    "h = Symbol('h')\n",
    "\n",
    "b1 = Operator('b1')\n",
    "b2 = Operator('b2')\n",
    "b3 = Operator('b3')\n",
    "b4 = Operator('b4')\n",
    "\n",
    "A1 = Operator('A1')\n",
    "A2 = Operator('A2')\n",
    "A3 = Operator('A3')\n",
    "\n",
    "A1_ = Operator('A_1')\n",
    "A2_ = Operator('A_2')\n",
    "A3_ = Operator('A_3')\n",
    "\n",
    "A0u = Operator('A^{(0)}')\n",
    "A1u = Operator('A^{(1)}')\n",
    "A2u = Operator('A^{(2)}')\n",
    "\n",
    "c1 = Symbol('c1')\n",
    "c3 = Symbol('c3')\n",
    "c12 = Symbol('c12')\n",
    "c23 = Symbol('c23')\n",
    "c113 = Symbol('c113')\n",
    "c212 = Symbol('c212')\n",
    "c1112 = Symbol('c1112')\n",
    "\n",
    "\n",
    "x11 = Symbol('x_{1,1}')\n",
    "x12 = Symbol('x_{1,2}')"
   ]
  },
  {
   "cell_type": "markdown",
   "metadata": {},
   "source": [
    "# From $A(\\tau_i)$ to the $b_i$ basis"
   ]
  },
  {
   "cell_type": "code",
   "execution_count": 3,
   "metadata": {},
   "outputs": [
    {
     "data": {
      "text/plain": [
       "(Matrix([\n",
       " [1,    0],\n",
       " [0, 1/12]]),\n",
       " Matrix([\n",
       " [1,  0],\n",
       " [0, 12]]))"
      ]
     },
     "execution_count": 3,
     "metadata": {},
     "output_type": "execute_result"
    }
   ],
   "source": [
    "def generate_T(order):\n",
    "    T = Matrix(order, order, lambda i,j: (1-(-1)**(i+j+1))/((i+j+1)*2**(i+j+1)))\n",
    "    return T\n",
    "\n",
    "T = generate_T(2)\n",
    "R = T.inv()\n",
    "T, R"
   ]
  },
  {
   "cell_type": "code",
   "execution_count": 4,
   "metadata": {},
   "outputs": [
    {
     "data": {
      "text/latex": [
       "$\\displaystyle \\left[\\begin{matrix}\\frac{1}{2} & \\frac{1}{2}\\\\- \\frac{\\sqrt{3}}{12} & \\frac{\\sqrt{3}}{12}\\end{matrix}\\right]$"
      ],
      "text/plain": [
       "Matrix([\n",
       "[        1/2,        1/2],\n",
       "[-sqrt(3)/12, sqrt(3)/12]])"
      ]
     },
     "execution_count": 4,
     "metadata": {},
     "output_type": "execute_result"
    }
   ],
   "source": [
    "def gauss_legendre(n,x):\n",
    "    Pnx = sp.legendre(n,x)\n",
    "    Pp = sp.diff(Pnx,x)\n",
    "    ci = sp.solve( Pnx, x )\n",
    "    wi = [ sp.simplify(2/(1 - xj**2)/(Pp.subs(x,xj))**2) for xj in ci ]\n",
    "    return ci, wi\n",
    "\n",
    "def generate_Q(order):\n",
    "    x = sp.Symbol('x')\n",
    "    ci, wi = gauss_legendre(order,x)\n",
    "    # sort the roots and weights\n",
    "    indices = [ci.index(c) for c in np.sort(ci)]\n",
    "    ci = [ci[i] for i in indices]\n",
    "    wi = [wi[i] for i in indices]\n",
    "    Q = Matrix(order, order, lambda i,j: wi[j]*(ci[j]**i)/(2**(i+1)))\n",
    "    return Q\n",
    "\n",
    "Q = generate_Q(2)\n",
    "Q"
   ]
  },
  {
   "cell_type": "code",
   "execution_count": 5,
   "metadata": {},
   "outputs": [
    {
     "data": {
      "text/plain": [
       "(Matrix([\n",
       " [1,  0],\n",
       " [0, 12]]),\n",
       " Matrix([\n",
       " [        1/2,        1/2],\n",
       " [-sqrt(3)/12, sqrt(3)/12]]))"
      ]
     },
     "execution_count": 5,
     "metadata": {},
     "output_type": "execute_result"
    }
   ],
   "source": [
    "R, Q"
   ]
  },
  {
   "cell_type": "code",
   "execution_count": 6,
   "metadata": {},
   "outputs": [
    {
     "data": {
      "text/latex": [
       "$\\displaystyle \\left[\\begin{matrix}\\frac{1}{2} & \\frac{1}{2}\\\\- \\sqrt{3} & \\sqrt{3}\\end{matrix}\\right]$"
      ],
      "text/plain": [
       "Matrix([\n",
       "[     1/2,     1/2],\n",
       "[-sqrt(3), sqrt(3)]])"
      ]
     },
     "execution_count": 6,
     "metadata": {},
     "output_type": "execute_result"
    }
   ],
   "source": [
    "R @ Q"
   ]
  },
  {
   "cell_type": "markdown",
   "metadata": {},
   "source": [
    "# Magnus operator."
   ]
  },
  {
   "cell_type": "markdown",
   "metadata": {},
   "source": [
    "## Order 4"
   ]
  },
  {
   "cell_type": "markdown",
   "metadata": {},
   "source": [
    "Magnus operator $\\Omega$ of order $O(h^4)$."
   ]
  },
  {
   "cell_type": "code",
   "execution_count": 7,
   "metadata": {},
   "outputs": [],
   "source": [
    "Sigma4 = (c1 * b1 * h) + h**3 * (c12 * Commutator(b1, b2))"
   ]
  },
  {
   "cell_type": "code",
   "execution_count": 8,
   "metadata": {},
   "outputs": [
    {
     "data": {
      "text/latex": [
       "$\\displaystyle 1 + \\frac{h^{3} \\left(c_{1}^{3} b_{1}^{3} + 6 c_{12} \\left(b_{1} b_{2} - b_{2} b_{1}\\right)\\right)}{6} + c_{1} h b_{1} + \\frac{c_{1} h^{4} \\left(c_{1}^{3} b_{1}^{4} + 12 c_{12} \\left(b_{1} b_{2} - b_{2} b_{1}\\right) b_{1} + 12 c_{12} b_{1} \\left(b_{1} b_{2} - b_{2} b_{1}\\right)\\right)}{24} + \\frac{c_{1}^{2} h^{2} b_{1}^{2}}{2} + O\\left(h^{5}\\right)$"
      ],
      "text/plain": [
       "1 + h**3*(c1**3*b1**3 + 6*c12*(b1*b2 - b2*b1))/6 + c1*h*b1 + c1*h**4*(c1**3*b1**4 + 12*c12*(b1*b2 - b2*b1)*b1 + 12*c12*b1*(b1*b2 - b2*b1))/24 + c1**2*h**2*b1**2/2 + O(h**5)"
      ]
     },
     "execution_count": 8,
     "metadata": {},
     "output_type": "execute_result"
    }
   ],
   "source": [
    "M4 = simplify(exp(Sigma4).series(h, 0, n=5))\n",
    "M4"
   ]
  },
  {
   "cell_type": "code",
   "execution_count": 9,
   "metadata": {},
   "outputs": [
    {
     "data": {
      "text/plain": [
       "{h: c1*b1,\n",
       " h**2: c1**2*b1**2/2,\n",
       " h**3: c1**3*b1**3/6 + c12*b1*b2 - c12*b2*b1,\n",
       " h**4: c1**4*b1**4/24 + c1*c12*b1**2*b2/2 - c1*c12*b2*b1**2/2,\n",
       " 1: 1 + O(h**5)}"
      ]
     },
     "execution_count": 9,
     "metadata": {},
     "output_type": "execute_result"
    }
   ],
   "source": [
    "poly_M4 = collect(expand(M4), h, evaluate = False)\n",
    "poly_M4"
   ]
  },
  {
   "cell_type": "markdown",
   "metadata": {},
   "source": [
    "## Order 6"
   ]
  },
  {
   "cell_type": "markdown",
   "metadata": {},
   "source": [
    "Magnus operator $\\Omega$ of order $O(h^7)$."
   ]
  },
  {
   "cell_type": "code",
   "execution_count": 10,
   "metadata": {},
   "outputs": [],
   "source": [
    "Sigma6 = (c1 * b1 * h) + h**3 * (c12 * Commutator(b1, b2) +\n",
    "        c3 * b3) + h**5 * (c23 * Commutator(b2, b3) + \n",
    "        c113 * Commutator(b1, Commutator(b1, b3)) + c212 * Commutator(b2, Commutator(b1, b2)) + c1112 * Commutator(b1, Commutator(b1, Commutator(b1, b2)))\n",
    ")"
   ]
  },
  {
   "cell_type": "code",
   "execution_count": 11,
   "metadata": {},
   "outputs": [
    {
     "data": {
      "text/latex": [
       "$\\displaystyle 1 + h^{3} \\left(\\frac{c_{1}^{3} b_{1}^{3}}{6} + c_{12} \\left(b_{1} b_{2} - b_{2} b_{1}\\right) + c_{3} b_{3}\\right) + h^{4} \\left(\\frac{c_{1}^{4} b_{1}^{4}}{24} + \\frac{c_{1} c_{12} \\left(b_{1} b_{2} - b_{2} b_{1}\\right) b_{1}}{2} + \\frac{c_{1} c_{12} b_{1} \\left(b_{1} b_{2} - b_{2} b_{1}\\right)}{2} + \\frac{c_{1} c_{3} b_{1} b_{3}}{2} + \\frac{c_{1} c_{3} b_{3} b_{1}}{2}\\right) + h^{5} \\left(\\frac{c_{1}^{5} b_{1}^{5}}{120} + \\frac{c_{1}^{2} c_{12} \\left(b_{1} b_{2} - b_{2} b_{1}\\right) b_{1}^{2}}{6} + \\frac{c_{1}^{2} c_{12} b_{1} \\left(b_{1} b_{2} - b_{2} b_{1}\\right) b_{1}}{6} + \\frac{c_{1}^{2} c_{12} b_{1}^{2} \\left(b_{1} b_{2} - b_{2} b_{1}\\right)}{6} + \\frac{c_{1}^{2} c_{3} b_{1} b_{3} b_{1}}{6} + \\frac{c_{1}^{2} c_{3} b_{1}^{2} b_{3}}{6} + \\frac{c_{1}^{2} c_{3} b_{3} b_{1}^{2}}{6} + c_{1112} \\left(\\left(\\left(b_{1} b_{2} - b_{2} b_{1}\\right) b_{1} - b_{1} \\left(b_{1} b_{2} - b_{2} b_{1}\\right)\\right) b_{1} - b_{1} \\left(\\left(b_{1} b_{2} - b_{2} b_{1}\\right) b_{1} - b_{1} \\left(b_{1} b_{2} - b_{2} b_{1}\\right)\\right)\\right) - c_{113} \\left(\\left(b_{1} b_{3} - b_{3} b_{1}\\right) b_{1} - b_{1} \\left(b_{1} b_{3} - b_{3} b_{1}\\right)\\right) - c_{212} \\left(\\left(b_{1} b_{2} - b_{2} b_{1}\\right) b_{2} - b_{2} \\left(b_{1} b_{2} - b_{2} b_{1}\\right)\\right) + c_{23} \\left(b_{2} b_{3} - b_{3} b_{2}\\right)\\right) + h^{6} \\left(\\frac{c_{1}^{6} b_{1}^{6}}{720} + \\frac{c_{1}^{3} c_{12} \\left(b_{1} b_{2} - b_{2} b_{1}\\right) b_{1}^{3}}{24} + \\frac{c_{1}^{3} c_{12} b_{1} \\left(b_{1} b_{2} - b_{2} b_{1}\\right) b_{1}^{2}}{24} + \\frac{c_{1}^{3} c_{12} b_{1}^{2} \\left(b_{1} b_{2} - b_{2} b_{1}\\right) b_{1}}{24} + \\frac{c_{1}^{3} c_{12} b_{1}^{3} \\left(b_{1} b_{2} - b_{2} b_{1}\\right)}{24} + \\frac{c_{1}^{3} c_{3} b_{1} b_{3} b_{1}^{2}}{24} + \\frac{c_{1}^{3} c_{3} b_{1}^{2} b_{3} b_{1}}{24} + \\frac{c_{1}^{3} c_{3} b_{1}^{3} b_{3}}{24} + \\frac{c_{1}^{3} c_{3} b_{3} b_{1}^{3}}{24} + \\frac{c_{1} c_{1112} \\left(\\left(\\left(b_{1} b_{2} - b_{2} b_{1}\\right) b_{1} - b_{1} \\left(b_{1} b_{2} - b_{2} b_{1}\\right)\\right) b_{1} - b_{1} \\left(\\left(b_{1} b_{2} - b_{2} b_{1}\\right) b_{1} - b_{1} \\left(b_{1} b_{2} - b_{2} b_{1}\\right)\\right)\\right) b_{1}}{2} + \\frac{c_{1} c_{1112} b_{1} \\left(\\left(\\left(b_{1} b_{2} - b_{2} b_{1}\\right) b_{1} - b_{1} \\left(b_{1} b_{2} - b_{2} b_{1}\\right)\\right) b_{1} - b_{1} \\left(\\left(b_{1} b_{2} - b_{2} b_{1}\\right) b_{1} - b_{1} \\left(b_{1} b_{2} - b_{2} b_{1}\\right)\\right)\\right)}{2} - \\frac{c_{1} c_{113} \\left(\\left(b_{1} b_{3} - b_{3} b_{1}\\right) b_{1} - b_{1} \\left(b_{1} b_{3} - b_{3} b_{1}\\right)\\right) b_{1}}{2} - \\frac{c_{1} c_{113} b_{1} \\left(\\left(b_{1} b_{3} - b_{3} b_{1}\\right) b_{1} - b_{1} \\left(b_{1} b_{3} - b_{3} b_{1}\\right)\\right)}{2} - \\frac{c_{1} c_{212} \\left(\\left(b_{1} b_{2} - b_{2} b_{1}\\right) b_{2} - b_{2} \\left(b_{1} b_{2} - b_{2} b_{1}\\right)\\right) b_{1}}{2} - \\frac{c_{1} c_{212} b_{1} \\left(\\left(b_{1} b_{2} - b_{2} b_{1}\\right) b_{2} - b_{2} \\left(b_{1} b_{2} - b_{2} b_{1}\\right)\\right)}{2} + \\frac{c_{1} c_{23} \\left(b_{2} b_{3} - b_{3} b_{2}\\right) b_{1}}{2} + \\frac{c_{1} c_{23} b_{1} \\left(b_{2} b_{3} - b_{3} b_{2}\\right)}{2} + \\frac{c_{12}^{2} \\left(b_{1} b_{2} - b_{2} b_{1}\\right)^{2}}{2} + \\frac{c_{12} c_{3} \\left(b_{1} b_{2} - b_{2} b_{1}\\right) b_{3}}{2} + \\frac{c_{12} c_{3} b_{3} \\left(b_{1} b_{2} - b_{2} b_{1}\\right)}{2} + \\frac{c_{3}^{2} b_{3}^{2}}{2}\\right) + c_{1} h b_{1} + \\frac{c_{1}^{2} h^{2} b_{1}^{2}}{2} + O\\left(h^{7}\\right)$"
      ],
      "text/plain": [
       "1 + h**3*(c1**3*b1**3/6 + c12*(b1*b2 - b2*b1) + c3*b3) + h**4*(c1**4*b1**4/24 + c1*c12*(b1*b2 - b2*b1)*b1/2 + c1*c12*b1*(b1*b2 - b2*b1)/2 + c1*c3*b1*b3/2 + c1*c3*b3*b1/2) + h**5*(c1**5*b1**5/120 + c1**2*c12*(b1*b2 - b2*b1)*b1**2/6 + c1**2*c12*b1*(b1*b2 - b2*b1)*b1/6 + c1**2*c12*b1**2*(b1*b2 - b2*b1)/6 + c1**2*c3*b1*b3*b1/6 + c1**2*c3*b1**2*b3/6 + c1**2*c3*b3*b1**2/6 + c1112*(((b1*b2 - b2*b1)*b1 - b1*(b1*b2 - b2*b1))*b1 - b1*((b1*b2 - b2*b1)*b1 - b1*(b1*b2 - b2*b1))) - c113*((b1*b3 - b3*b1)*b1 - b1*(b1*b3 - b3*b1)) - c212*((b1*b2 - b2*b1)*b2 - b2*(b1*b2 - b2*b1)) + c23*(b2*b3 - b3*b2)) + h**6*(c1**6*b1**6/720 + c1**3*c12*(b1*b2 - b2*b1)*b1**3/24 + c1**3*c12*b1*(b1*b2 - b2*b1)*b1**2/24 + c1**3*c12*b1**2*(b1*b2 - b2*b1)*b1/24 + c1**3*c12*b1**3*(b1*b2 - b2*b1)/24 + c1**3*c3*b1*b3*b1**2/24 + c1**3*c3*b1**2*b3*b1/24 + c1**3*c3*b1**3*b3/24 + c1**3*c3*b3*b1**3/24 + c1*c1112*(((b1*b2 - b2*b1)*b1 - b1*(b1*b2 - b2*b1))*b1 - b1*((b1*b2 - b2*b1)*b1 - b1*(b1*b2 - b2*b1)))*b1/2 + c1*c1112*b1*(((b1*b2 - b2*b1)*b1 - b1*(b1*b2 - b2*b1))*b1 - b1*((b1*b2 - b2*b1)*b1 - b1*(b1*b2 - b2*b1)))/2 - c1*c113*((b1*b3 - b3*b1)*b1 - b1*(b1*b3 - b3*b1))*b1/2 - c1*c113*b1*((b1*b3 - b3*b1)*b1 - b1*(b1*b3 - b3*b1))/2 - c1*c212*((b1*b2 - b2*b1)*b2 - b2*(b1*b2 - b2*b1))*b1/2 - c1*c212*b1*((b1*b2 - b2*b1)*b2 - b2*(b1*b2 - b2*b1))/2 + c1*c23*(b2*b3 - b3*b2)*b1/2 + c1*c23*b1*(b2*b3 - b3*b2)/2 + c12**2*(b1*b2 - b2*b1)**2/2 + c12*c3*(b1*b2 - b2*b1)*b3/2 + c12*c3*b3*(b1*b2 - b2*b1)/2 + c3**2*b3**2/2) + c1*h*b1 + c1**2*h**2*b1**2/2 + O(h**7)"
      ]
     },
     "execution_count": 11,
     "metadata": {},
     "output_type": "execute_result"
    }
   ],
   "source": [
    "M6 = simplify(exp(Sigma6).series(h, 0, n=7))\n",
    "M6"
   ]
  },
  {
   "cell_type": "code",
   "execution_count": 12,
   "metadata": {},
   "outputs": [
    {
     "data": {
      "text/plain": [
       "{h: c1*b1,\n",
       " h**3: c1**3*b1**3/6 + c12*b1*b2 - c12*b2*b1 + c3*b3,\n",
       " h**2: c1**2*b1**2/2,\n",
       " h**6: c1**6*b1**6/720 + c1**3*c12*b1**4*b2/24 - c1**3*c12*b2*b1**4/24 + c1**3*c3*b1*b3*b1**2/24 + c1**3*c3*b1**2*b3*b1/24 + c1**3*c3*b1**3*b3/24 + c1**3*c3*b3*b1**3/24 + c1*c1112*b1*b2*b1**3 - c1*c1112*b1**3*b2*b1 + c1*c1112*b1**4*b2/2 - c1*c1112*b2*b1**4/2 - c1*c113*b1*b3*b1**2/2 - c1*c113*b1**2*b3*b1/2 + c1*c113*b1**3*b3/2 + c1*c113*b3*b1**3/2 + c1*c212*b1*b2*b1*b2 - c1*c212*b1*b2**2*b1 - c1*c212*b1**2*b2**2/2 + c1*c212*b2*b1*b2*b1 - c1*c212*b2**2*b1**2/2 + c1*c23*b1*b2*b3/2 - c1*c23*b1*b3*b2/2 + c1*c23*b2*b3*b1/2 - c1*c23*b3*b2*b1/2 + c12**2*b1*b2*b1*b2/2 - c12**2*b1*b2**2*b1/2 + c12**2*b2*b1*b2*b1/2 - c12**2*b2*b1**2*b2/2 + c12*c3*b1*b2*b3/2 - c12*c3*b2*b1*b3/2 + c12*c3*b3*b1*b2/2 - c12*c3*b3*b2*b1/2 + c3**2*b3**2/2,\n",
       " h**4: c1**4*b1**4/24 + c1*c12*b1**2*b2/2 - c1*c12*b2*b1**2/2 + c1*c3*b1*b3/2 + c1*c3*b3*b1/2,\n",
       " h**5: c1**5*b1**5/120 + c1**2*c12*b1**3*b2/6 - c1**2*c12*b2*b1**3/6 + c1**2*c3*b1*b3*b1/6 + c1**2*c3*b1**2*b3/6 + c1**2*c3*b3*b1**2/6 + 3*c1112*b1*b2*b1**2 - 3*c1112*b1**2*b2*b1 + c1112*b1**3*b2 - c1112*b2*b1**3 - 2*c113*b1*b3*b1 + c113*b1**2*b3 + c113*b3*b1**2 - c212*b1*b2**2 + 2*c212*b2*b1*b2 - c212*b2**2*b1 + c23*b2*b3 - c23*b3*b2,\n",
       " 1: 1 + O(h**7)}"
      ]
     },
     "execution_count": 12,
     "metadata": {},
     "output_type": "execute_result"
    }
   ],
   "source": [
    "poly_M6 = collect(expand(M6), h, evaluate = False)\n",
    "poly_M6"
   ]
  },
  {
   "cell_type": "markdown",
   "metadata": {},
   "source": [
    "# Commutator free operators"
   ]
  },
  {
   "cell_type": "markdown",
   "metadata": {},
   "source": [
    "## $\\Psi_{2}^{[4]}$"
   ]
  },
  {
   "cell_type": "markdown",
   "metadata": {},
   "source": [
    "Now we have to define our available operators."
   ]
  },
  {
   "cell_type": "code",
   "execution_count": 13,
   "metadata": {},
   "outputs": [
    {
     "data": {
      "text/latex": [
       "$\\displaystyle 1 + 2 h x_{1,1} b_{1} + 2 h^{2} x_{1,1}^{2} b_{1}^{2} + \\frac{h^{3} x_{1,1} \\cdot \\left(4 x_{1,1}^{2} b_{1}^{3} - 3 x_{1,2} b_{1} b_{2} + 3 x_{1,2} b_{2} b_{1}\\right)}{3} + \\frac{h^{4} x_{1,1}^{2} \\cdot \\left(2 x_{1,1}^{2} b_{1}^{4} - 3 x_{1,2} b_{1}^{2} b_{2} + 3 x_{1,2} b_{2} b_{1}^{2}\\right)}{3} + \\frac{h^{5} x_{1,1} \\cdot \\left(16 x_{1,1}^{4} b_{1}^{5} + 15 x_{1,1}^{2} x_{1,2} b_{1} b_{2} b_{1}^{2} - 15 x_{1,1}^{2} x_{1,2} b_{1}^{2} b_{2} b_{1} - 35 x_{1,1}^{2} x_{1,2} b_{1}^{3} b_{2} + 35 x_{1,1}^{2} x_{1,2} b_{2} b_{1}^{3} + 20 x_{1,2}^{2} b_{1} b_{2}^{2} - 40 x_{1,2}^{2} b_{2} b_{1} b_{2} + 20 x_{1,2}^{2} b_{2}^{2} b_{1}\\right)}{60} + \\frac{h^{6} x_{1,1}^{2} \\cdot \\left(16 x_{1,1}^{4} b_{1}^{6} + 30 x_{1,1}^{2} x_{1,2} b_{1} b_{2} b_{1}^{3} - 30 x_{1,1}^{2} x_{1,2} b_{1}^{3} b_{2} b_{1} - 45 x_{1,1}^{2} x_{1,2} b_{1}^{4} b_{2} + 45 x_{1,1}^{2} x_{1,2} b_{2} b_{1}^{4} - 30 x_{1,2}^{2} \\left(b_{1} b_{2}\\right)^{2} - 30 x_{1,2}^{2} \\left(b_{2} b_{1}\\right)^{2} + 30 x_{1,2}^{2} b_{1} b_{2}^{2} b_{1} + 60 x_{1,2}^{2} b_{1}^{2} b_{2}^{2} - 90 x_{1,2}^{2} b_{2} b_{1}^{2} b_{2} + 60 x_{1,2}^{2} b_{2}^{2} b_{1}^{2}\\right)}{180} + O\\left(h^{7}\\right)$"
      ],
      "text/plain": [
       "1 + 2*h*x_{1,1}*b1 + 2*h**2*x_{1,1}**2*b1**2 + h**3*x_{1,1}*(4*x_{1,1}**2*b1**3 - 3*x_{1,2}*b1*b2 + 3*x_{1,2}*b2*b1)/3 + h**4*x_{1,1}**2*(2*x_{1,1}**2*b1**4 - 3*x_{1,2}*b1**2*b2 + 3*x_{1,2}*b2*b1**2)/3 + h**5*x_{1,1}*(16*x_{1,1}**4*b1**5 + 15*x_{1,1}**2*x_{1,2}*b1*b2*b1**2 - 15*x_{1,1}**2*x_{1,2}*b1**2*b2*b1 - 35*x_{1,1}**2*x_{1,2}*b1**3*b2 + 35*x_{1,1}**2*x_{1,2}*b2*b1**3 + 20*x_{1,2}**2*b1*b2**2 - 40*x_{1,2}**2*b2*b1*b2 + 20*x_{1,2}**2*b2**2*b1)/60 + h**6*x_{1,1}**2*(16*x_{1,1}**4*b1**6 + 30*x_{1,1}**2*x_{1,2}*b1*b2*b1**3 - 30*x_{1,1}**2*x_{1,2}*b1**3*b2*b1 - 45*x_{1,1}**2*x_{1,2}*b1**4*b2 + 45*x_{1,1}**2*x_{1,2}*b2*b1**4 - 30*x_{1,2}**2*(b1*b2)**2 - 30*x_{1,2}**2*(b2*b1)**2 + 30*x_{1,2}**2*b1*b2**2*b1 + 60*x_{1,2}**2*b1**2*b2**2 - 90*x_{1,2}**2*b2*b1**2*b2 + 60*x_{1,2}**2*b2**2*b1**2)/180 + O(h**7)"
      ]
     },
     "execution_count": 13,
     "metadata": {},
     "output_type": "execute_result"
    }
   ],
   "source": [
    "Psi42_1 = exp(x11 * b1 * h + x12 * b2 * h**2)\n",
    "Psi42_2 = exp(x11 * b1 * h - x12 * b2 * h**2)\n",
    "\n",
    "poly_psi42_1 = simplify(Psi42_1.series(h, 0, n=7))\n",
    "poly_psi42_2 = simplify(Psi42_2.series(h, 0, n=7))\n",
    "\n",
    "poly_psi42 = simplify(simplify(poly_psi42_1 * poly_psi42_2).series(h, 0, n=7))\n",
    "poly_psi42"
   ]
  },
  {
   "cell_type": "code",
   "execution_count": 14,
   "metadata": {},
   "outputs": [
    {
     "data": {
      "text/plain": [
       "{h: 2*x_{1,1}*b1,\n",
       " h**2: 2*x_{1,1}**2*b1**2,\n",
       " h**4: 2*x_{1,1}**4*b1**4/3 - x_{1,1}**2*x_{1,2}*b1**2*b2 + x_{1,1}**2*x_{1,2}*b2*b1**2,\n",
       " h**3: 4*x_{1,1}**3*b1**3/3 - x_{1,1}*x_{1,2}*b1*b2 + x_{1,1}*x_{1,2}*b2*b1,\n",
       " h**5: 4*x_{1,1}**5*b1**5/15 + x_{1,1}**3*x_{1,2}*b1*b2*b1**2/4 - x_{1,1}**3*x_{1,2}*b1**2*b2*b1/4 - 7*x_{1,1}**3*x_{1,2}*b1**3*b2/12 + 7*x_{1,1}**3*x_{1,2}*b2*b1**3/12 + x_{1,1}*x_{1,2}**2*b1*b2**2/3 - 2*x_{1,1}*x_{1,2}**2*b2*b1*b2/3 + x_{1,1}*x_{1,2}**2*b2**2*b1/3,\n",
       " h**6: 4*x_{1,1}**6*b1**6/45 + x_{1,1}**4*x_{1,2}*b1*b2*b1**3/6 - x_{1,1}**4*x_{1,2}*b1**3*b2*b1/6 - x_{1,1}**4*x_{1,2}*b1**4*b2/4 + x_{1,1}**4*x_{1,2}*b2*b1**4/4 - x_{1,1}**2*x_{1,2}**2*b1*b2*b1*b2/6 + x_{1,1}**2*x_{1,2}**2*b1*b2**2*b1/6 + x_{1,1}**2*x_{1,2}**2*b1**2*b2**2/3 - x_{1,1}**2*x_{1,2}**2*b2*b1*b2*b1/6 - x_{1,1}**2*x_{1,2}**2*b2*b1**2*b2/2 + x_{1,1}**2*x_{1,2}**2*b2**2*b1**2/3,\n",
       " 1: 1 + O(h**7)}"
      ]
     },
     "execution_count": 14,
     "metadata": {},
     "output_type": "execute_result"
    }
   ],
   "source": [
    "poly_Psi42 = collect(expand(poly_psi42), h, evaluate = False)\n",
    "poly_Psi42"
   ]
  },
  {
   "cell_type": "code",
   "execution_count": 15,
   "metadata": {},
   "outputs": [
    {
     "data": {
      "text/latex": [
       "$\\displaystyle \\frac{c_{1}}{2}$"
      ],
      "text/plain": [
       "c1/2"
      ]
     },
     "execution_count": 15,
     "metadata": {},
     "output_type": "execute_result"
    }
   ],
   "source": [
    "solution = solve(Eq(poly_M4[h], poly_Psi42[h]))\n",
    "s = solve(Eq(list(solution[0].keys())[0], list(solution[0].values())[0]), x11)\n",
    "s[0]"
   ]
  },
  {
   "cell_type": "code",
   "execution_count": 16,
   "metadata": {},
   "outputs": [],
   "source": [
    "for k in poly_Psi42.keys():\n",
    "    poly_Psi42[k] = poly_Psi42[k].subs(x11, s[0])"
   ]
  },
  {
   "cell_type": "code",
   "execution_count": 17,
   "metadata": {},
   "outputs": [
    {
     "data": {
      "text/latex": [
       "$\\displaystyle \\frac{c_{1}^{3} b_{1}^{3}}{6} + c_{12} b_{1} b_{2} - c_{12} b_{2} b_{1} = \\frac{c_{1}^{3} b_{1}^{3}}{6} - \\frac{c_{1} x_{1,2} b_{1} b_{2}}{2} + \\frac{c_{1} x_{1,2} b_{2} b_{1}}{2}$"
      ],
      "text/plain": [
       "Eq(c1**3*b1**3/6 + c12*b1*b2 - c12*b2*b1, c1**3*b1**3/6 - c1*x_{1,2}*b1*b2/2 + c1*x_{1,2}*b2*b1/2)"
      ]
     },
     "execution_count": 17,
     "metadata": {},
     "output_type": "execute_result"
    }
   ],
   "source": [
    "Eq(poly_M4[h**3], poly_Psi42[h**3])"
   ]
  },
  {
   "cell_type": "markdown",
   "metadata": {},
   "source": [
    "As a consequence we take the value $x_{1,2} = - \\frac{2c_{1,2}}{c_{1}}$."
   ]
  },
  {
   "cell_type": "code",
   "execution_count": 18,
   "metadata": {},
   "outputs": [],
   "source": [
    "for k in poly_Psi42.keys():\n",
    "    poly_Psi42[k] = poly_Psi42[k].subs(x12, -2*c12/c1)"
   ]
  },
  {
   "cell_type": "markdown",
   "metadata": {},
   "source": [
    "We can check that this two substitutions make approximation correct up to order $O(h^5)$."
   ]
  },
  {
   "cell_type": "code",
   "execution_count": 19,
   "metadata": {},
   "outputs": [
    {
     "name": "stdout",
     "output_type": "stream",
     "text": [
      "order O(h) True\n",
      "order O(h**2) True\n",
      "order O(h**3) True\n",
      "order O(h**4) True\n",
      "order O(1) Eq(1 + O(h**7), 1 + O(h**5))\n"
     ]
    }
   ],
   "source": [
    "for k in poly_M4.keys():\n",
    "    print(f'order O({k})', Eq(poly_Psi42[k], poly_M4[k]))"
   ]
  },
  {
   "cell_type": "code",
   "execution_count": 20,
   "metadata": {},
   "outputs": [
    {
     "name": "stdout",
     "output_type": "stream",
     "text": [
      "order O(h):\n"
     ]
    },
    {
     "data": {
      "text/latex": [
       "$\\displaystyle \\text{True}$"
      ],
      "text/plain": [
       "True"
      ]
     },
     "metadata": {},
     "output_type": "display_data"
    },
    {
     "name": "stdout",
     "output_type": "stream",
     "text": [
      "order O(h**3):\n"
     ]
    },
    {
     "data": {
      "text/latex": [
       "$\\displaystyle \\frac{c_{1}^{3} b_{1}^{3}}{6} + c_{12} b_{1} b_{2} - c_{12} b_{2} b_{1} = \\frac{c_{1}^{3} b_{1}^{3}}{6} + c_{12} b_{1} b_{2} - c_{12} b_{2} b_{1} + c_{3} b_{3}$"
      ],
      "text/plain": [
       "Eq(c1**3*b1**3/6 + c12*b1*b2 - c12*b2*b1, c1**3*b1**3/6 + c12*b1*b2 - c12*b2*b1 + c3*b3)"
      ]
     },
     "metadata": {},
     "output_type": "display_data"
    },
    {
     "name": "stdout",
     "output_type": "stream",
     "text": [
      "order O(h**2):\n"
     ]
    },
    {
     "data": {
      "text/latex": [
       "$\\displaystyle \\text{True}$"
      ],
      "text/plain": [
       "True"
      ]
     },
     "metadata": {},
     "output_type": "display_data"
    },
    {
     "name": "stdout",
     "output_type": "stream",
     "text": [
      "order O(h**6):\n"
     ]
    },
    {
     "data": {
      "text/latex": [
       "$\\displaystyle \\frac{c_{1}^{6} b_{1}^{6}}{720} - \\frac{c_{1}^{3} c_{12} b_{1} b_{2} b_{1}^{3}}{48} + \\frac{c_{1}^{3} c_{12} b_{1}^{3} b_{2} b_{1}}{48} + \\frac{c_{1}^{3} c_{12} b_{1}^{4} b_{2}}{32} - \\frac{c_{1}^{3} c_{12} b_{2} b_{1}^{4}}{32} - \\frac{c_{12}^{2} b_{1} b_{2} b_{1} b_{2}}{6} + \\frac{c_{12}^{2} b_{1} b_{2}^{2} b_{1}}{6} + \\frac{c_{12}^{2} b_{1}^{2} b_{2}^{2}}{3} - \\frac{c_{12}^{2} b_{2} b_{1} b_{2} b_{1}}{6} - \\frac{c_{12}^{2} b_{2} b_{1}^{2} b_{2}}{2} + \\frac{c_{12}^{2} b_{2}^{2} b_{1}^{2}}{3} = \\frac{c_{1}^{6} b_{1}^{6}}{720} + \\frac{c_{1}^{3} c_{12} b_{1}^{4} b_{2}}{24} - \\frac{c_{1}^{3} c_{12} b_{2} b_{1}^{4}}{24} + \\frac{c_{1}^{3} c_{3} b_{1} b_{3} b_{1}^{2}}{24} + \\frac{c_{1}^{3} c_{3} b_{1}^{2} b_{3} b_{1}}{24} + \\frac{c_{1}^{3} c_{3} b_{1}^{3} b_{3}}{24} + \\frac{c_{1}^{3} c_{3} b_{3} b_{1}^{3}}{24} + c_{1} c_{1112} b_{1} b_{2} b_{1}^{3} - c_{1} c_{1112} b_{1}^{3} b_{2} b_{1} + \\frac{c_{1} c_{1112} b_{1}^{4} b_{2}}{2} - \\frac{c_{1} c_{1112} b_{2} b_{1}^{4}}{2} - \\frac{c_{1} c_{113} b_{1} b_{3} b_{1}^{2}}{2} - \\frac{c_{1} c_{113} b_{1}^{2} b_{3} b_{1}}{2} + \\frac{c_{1} c_{113} b_{1}^{3} b_{3}}{2} + \\frac{c_{1} c_{113} b_{3} b_{1}^{3}}{2} + c_{1} c_{212} b_{1} b_{2} b_{1} b_{2} - c_{1} c_{212} b_{1} b_{2}^{2} b_{1} - \\frac{c_{1} c_{212} b_{1}^{2} b_{2}^{2}}{2} + c_{1} c_{212} b_{2} b_{1} b_{2} b_{1} - \\frac{c_{1} c_{212} b_{2}^{2} b_{1}^{2}}{2} + \\frac{c_{1} c_{23} b_{1} b_{2} b_{3}}{2} - \\frac{c_{1} c_{23} b_{1} b_{3} b_{2}}{2} + \\frac{c_{1} c_{23} b_{2} b_{3} b_{1}}{2} - \\frac{c_{1} c_{23} b_{3} b_{2} b_{1}}{2} + \\frac{c_{12}^{2} b_{1} b_{2} b_{1} b_{2}}{2} - \\frac{c_{12}^{2} b_{1} b_{2}^{2} b_{1}}{2} + \\frac{c_{12}^{2} b_{2} b_{1} b_{2} b_{1}}{2} - \\frac{c_{12}^{2} b_{2} b_{1}^{2} b_{2}}{2} + \\frac{c_{12} c_{3} b_{1} b_{2} b_{3}}{2} - \\frac{c_{12} c_{3} b_{2} b_{1} b_{3}}{2} + \\frac{c_{12} c_{3} b_{3} b_{1} b_{2}}{2} - \\frac{c_{12} c_{3} b_{3} b_{2} b_{1}}{2} + \\frac{c_{3}^{2} b_{3}^{2}}{2}$"
      ],
      "text/plain": [
       "Eq(c1**6*b1**6/720 - c1**3*c12*b1*b2*b1**3/48 + c1**3*c12*b1**3*b2*b1/48 + c1**3*c12*b1**4*b2/32 - c1**3*c12*b2*b1**4/32 - c12**2*b1*b2*b1*b2/6 + c12**2*b1*b2**2*b1/6 + c12**2*b1**2*b2**2/3 - c12**2*b2*b1*b2*b1/6 - c12**2*b2*b1**2*b2/2 + c12**2*b2**2*b1**2/3, c1**6*b1**6/720 + c1**3*c12*b1**4*b2/24 - c1**3*c12*b2*b1**4/24 + c1**3*c3*b1*b3*b1**2/24 + c1**3*c3*b1**2*b3*b1/24 + c1**3*c3*b1**3*b3/24 + c1**3*c3*b3*b1**3/24 + c1*c1112*b1*b2*b1**3 - c1*c1112*b1**3*b2*b1 + c1*c1112*b1**4*b2/2 - c1*c1112*b2*b1**4/2 - c1*c113*b1*b3*b1**2/2 - c1*c113*b1**2*b3*b1/2 + c1*c113*b1**3*b3/2 + c1*c113*b3*b1**3/2 + c1*c212*b1*b2*b1*b2 - c1*c212*b1*b2**2*b1 - c1*c212*b1**2*b2**2/2 + c1*c212*b2*b1*b2*b1 - c1*c212*b2**2*b1**2/2 + c1*c23*b1*b2*b3/2 - c1*c23*b1*b3*b2/2 + c1*c23*b2*b3*b1/2 - c1*c23*b3*b2*b1/2 + c12**2*b1*b2*b1*b2/2 - c12**2*b1*b2**2*b1/2 + c12**2*b2*b1*b2*b1/2 - c12**2*b2*b1**2*b2/2 + c12*c3*b1*b2*b3/2 - c12*c3*b2*b1*b3/2 + c12*c3*b3*b1*b2/2 - c12*c3*b3*b2*b1/2 + c3**2*b3**2/2)"
      ]
     },
     "metadata": {},
     "output_type": "display_data"
    },
    {
     "name": "stdout",
     "output_type": "stream",
     "text": [
      "order O(h**4):\n"
     ]
    },
    {
     "data": {
      "text/latex": [
       "$\\displaystyle \\frac{c_{1}^{4} b_{1}^{4}}{24} + \\frac{c_{1} c_{12} b_{1}^{2} b_{2}}{2} - \\frac{c_{1} c_{12} b_{2} b_{1}^{2}}{2} = \\frac{c_{1}^{4} b_{1}^{4}}{24} + \\frac{c_{1} c_{12} b_{1}^{2} b_{2}}{2} - \\frac{c_{1} c_{12} b_{2} b_{1}^{2}}{2} + \\frac{c_{1} c_{3} b_{1} b_{3}}{2} + \\frac{c_{1} c_{3} b_{3} b_{1}}{2}$"
      ],
      "text/plain": [
       "Eq(c1**4*b1**4/24 + c1*c12*b1**2*b2/2 - c1*c12*b2*b1**2/2, c1**4*b1**4/24 + c1*c12*b1**2*b2/2 - c1*c12*b2*b1**2/2 + c1*c3*b1*b3/2 + c1*c3*b3*b1/2)"
      ]
     },
     "metadata": {},
     "output_type": "display_data"
    },
    {
     "name": "stdout",
     "output_type": "stream",
     "text": [
      "order O(h**5):\n"
     ]
    },
    {
     "data": {
      "text/latex": [
       "$\\displaystyle \\frac{c_{1}^{5} b_{1}^{5}}{120} - \\frac{c_{1}^{2} c_{12} b_{1} b_{2} b_{1}^{2}}{16} + \\frac{c_{1}^{2} c_{12} b_{1}^{2} b_{2} b_{1}}{16} + \\frac{7 c_{1}^{2} c_{12} b_{1}^{3} b_{2}}{48} - \\frac{7 c_{1}^{2} c_{12} b_{2} b_{1}^{3}}{48} + \\frac{2 c_{12}^{2} b_{1} b_{2}^{2}}{3 c_{1}} - \\frac{4 c_{12}^{2} b_{2} b_{1} b_{2}}{3 c_{1}} + \\frac{2 c_{12}^{2} b_{2}^{2} b_{1}}{3 c_{1}} = \\frac{c_{1}^{5} b_{1}^{5}}{120} + \\frac{c_{1}^{2} c_{12} b_{1}^{3} b_{2}}{6} - \\frac{c_{1}^{2} c_{12} b_{2} b_{1}^{3}}{6} + \\frac{c_{1}^{2} c_{3} b_{1} b_{3} b_{1}}{6} + \\frac{c_{1}^{2} c_{3} b_{1}^{2} b_{3}}{6} + \\frac{c_{1}^{2} c_{3} b_{3} b_{1}^{2}}{6} + 3 c_{1112} b_{1} b_{2} b_{1}^{2} - 3 c_{1112} b_{1}^{2} b_{2} b_{1} + c_{1112} b_{1}^{3} b_{2} - c_{1112} b_{2} b_{1}^{3} - 2 c_{113} b_{1} b_{3} b_{1} + c_{113} b_{1}^{2} b_{3} + c_{113} b_{3} b_{1}^{2} - c_{212} b_{1} b_{2}^{2} + 2 c_{212} b_{2} b_{1} b_{2} - c_{212} b_{2}^{2} b_{1} + c_{23} b_{2} b_{3} - c_{23} b_{3} b_{2}$"
      ],
      "text/plain": [
       "Eq(c1**5*b1**5/120 - c1**2*c12*b1*b2*b1**2/16 + c1**2*c12*b1**2*b2*b1/16 + 7*c1**2*c12*b1**3*b2/48 - 7*c1**2*c12*b2*b1**3/48 + 2*c12**2*b1*b2**2/(3*c1) - 4*c12**2*b2*b1*b2/(3*c1) + 2*c12**2*b2**2*b1/(3*c1), c1**5*b1**5/120 + c1**2*c12*b1**3*b2/6 - c1**2*c12*b2*b1**3/6 + c1**2*c3*b1*b3*b1/6 + c1**2*c3*b1**2*b3/6 + c1**2*c3*b3*b1**2/6 + 3*c1112*b1*b2*b1**2 - 3*c1112*b1**2*b2*b1 + c1112*b1**3*b2 - c1112*b2*b1**3 - 2*c113*b1*b3*b1 + c113*b1**2*b3 + c113*b3*b1**2 - c212*b1*b2**2 + 2*c212*b2*b1*b2 - c212*b2**2*b1 + c23*b2*b3 - c23*b3*b2)"
      ]
     },
     "metadata": {},
     "output_type": "display_data"
    },
    {
     "name": "stdout",
     "output_type": "stream",
     "text": [
      "order O(1):\n"
     ]
    },
    {
     "data": {
      "text/latex": [
       "$\\displaystyle \\text{True}$"
      ],
      "text/plain": [
       "True"
      ]
     },
     "metadata": {},
     "output_type": "display_data"
    }
   ],
   "source": [
    "for k in poly_M6.keys():\n",
    "    print(f'order O({k}):')\n",
    "    display(Eq(poly_Psi42[k], poly_M6[k]))"
   ]
  },
  {
   "cell_type": "code",
   "execution_count": 21,
   "metadata": {},
   "outputs": [
    {
     "data": {
      "text/latex": [
       "$\\displaystyle \\frac{c_{1}^{5} b_{1}^{5}}{120} - \\frac{c_{1}^{2} c_{12} b_{1} b_{2} b_{1}^{2}}{16} + \\frac{c_{1}^{2} c_{12} b_{1}^{2} b_{2} b_{1}}{16} + \\frac{7 c_{1}^{2} c_{12} b_{1}^{3} b_{2}}{48} - \\frac{7 c_{1}^{2} c_{12} b_{2} b_{1}^{3}}{48} + \\frac{2 c_{12}^{2} b_{1} b_{2}^{2}}{3 c_{1}} - \\frac{4 c_{12}^{2} b_{2} b_{1} b_{2}}{3 c_{1}} + \\frac{2 c_{12}^{2} b_{2}^{2} b_{1}}{3 c_{1}} = \\frac{c_{1}^{5} b_{1}^{5}}{120} + \\frac{c_{1}^{2} c_{12} b_{1}^{3} b_{2}}{6} - \\frac{c_{1}^{2} c_{12} b_{2} b_{1}^{3}}{6} + \\frac{c_{1}^{2} c_{3} b_{1} b_{3} b_{1}}{6} + \\frac{c_{1}^{2} c_{3} b_{1}^{2} b_{3}}{6} + \\frac{c_{1}^{2} c_{3} b_{3} b_{1}^{2}}{6} + 3 c_{1112} b_{1} b_{2} b_{1}^{2} - 3 c_{1112} b_{1}^{2} b_{2} b_{1} + c_{1112} b_{1}^{3} b_{2} - c_{1112} b_{2} b_{1}^{3} - 2 c_{113} b_{1} b_{3} b_{1} + c_{113} b_{1}^{2} b_{3} + c_{113} b_{3} b_{1}^{2} - c_{212} b_{1} b_{2}^{2} + 2 c_{212} b_{2} b_{1} b_{2} - c_{212} b_{2}^{2} b_{1} + c_{23} b_{2} b_{3} - c_{23} b_{3} b_{2}$"
      ],
      "text/plain": [
       "Eq(c1**5*b1**5/120 - c1**2*c12*b1*b2*b1**2/16 + c1**2*c12*b1**2*b2*b1/16 + 7*c1**2*c12*b1**3*b2/48 - 7*c1**2*c12*b2*b1**3/48 + 2*c12**2*b1*b2**2/(3*c1) - 4*c12**2*b2*b1*b2/(3*c1) + 2*c12**2*b2**2*b1/(3*c1), c1**5*b1**5/120 + c1**2*c12*b1**3*b2/6 - c1**2*c12*b2*b1**3/6 + c1**2*c3*b1*b3*b1/6 + c1**2*c3*b1**2*b3/6 + c1**2*c3*b3*b1**2/6 + 3*c1112*b1*b2*b1**2 - 3*c1112*b1**2*b2*b1 + c1112*b1**3*b2 - c1112*b2*b1**3 - 2*c113*b1*b3*b1 + c113*b1**2*b3 + c113*b3*b1**2 - c212*b1*b2**2 + 2*c212*b2*b1*b2 - c212*b2**2*b1 + c23*b2*b3 - c23*b3*b2)"
      ]
     },
     "metadata": {},
     "output_type": "display_data"
    }
   ],
   "source": [
    "display(Eq(poly_Psi42[h**5], poly_M6[h**5]))"
   ]
  },
  {
   "cell_type": "markdown",
   "metadata": {},
   "source": [
    "We need to make sure that the order $O(h^5)$ terms cancel out when we change basis back to $A(\\tau_i)$."
   ]
  },
  {
   "cell_type": "code",
   "execution_count": 22,
   "metadata": {},
   "outputs": [
    {
     "data": {
      "text/latex": [
       "$\\displaystyle \\frac{c_{1} \\left(c_{1}^{3} \\left(A_{1} A_{2}\\right)^{2} + c_{1}^{3} \\left(A_{2} A_{1}\\right)^{2} + c_{1}^{3} A_{1} A_{2} A_{1}^{2} + c_{1}^{3} A_{1} A_{2}^{2} A_{1} + c_{1}^{3} A_{1} A_{2}^{3} + c_{1}^{3} A_{1}^{2} A_{2} A_{1} + c_{1}^{3} A_{1}^{2} A_{2}^{2} + c_{1}^{3} A_{1}^{3} A_{2} + c_{1}^{3} A_{1}^{4} + c_{1}^{3} A_{2} A_{1} A_{2}^{2} + c_{1}^{3} A_{2} A_{1}^{2} A_{2} + c_{1}^{3} A_{2} A_{1}^{3} + c_{1}^{3} A_{2}^{2} A_{1} A_{2} + c_{1}^{3} A_{2}^{2} A_{1}^{2} + c_{1}^{3} A_{2}^{3} A_{1} + c_{1}^{3} A_{2}^{4} + 96 \\sqrt{3} c_{12} A_{1} A_{2}^{2} + 96 \\sqrt{3} c_{12} A_{1}^{2} A_{2} - 96 \\sqrt{3} c_{12} A_{2} A_{1}^{2} - 96 \\sqrt{3} c_{12} A_{2}^{2} A_{1}\\right)}{384}$"
      ],
      "text/plain": [
       "c1*(c1**3*(A1*A2)**2 + c1**3*(A2*A1)**2 + c1**3*A1*A2*A1**2 + c1**3*A1*A2**2*A1 + c1**3*A1*A2**3 + c1**3*A1**2*A2*A1 + c1**3*A1**2*A2**2 + c1**3*A1**3*A2 + c1**3*A1**4 + c1**3*A2*A1*A2**2 + c1**3*A2*A1**2*A2 + c1**3*A2*A1**3 + c1**3*A2**2*A1*A2 + c1**3*A2**2*A1**2 + c1**3*A2**3*A1 + c1**3*A2**4 + 96*sqrt(3)*c12*A1*A2**2 + 96*sqrt(3)*c12*A1**2*A2 - 96*sqrt(3)*c12*A2*A1**2 - 96*sqrt(3)*c12*A2**2*A1)/384"
      ]
     },
     "execution_count": 22,
     "metadata": {},
     "output_type": "execute_result"
    }
   ],
   "source": [
    "Q = generate_Q(2)\n",
    "T = generate_T(2)\n",
    "R = T.inv()\n",
    "A2s = R @ Q @ Matrix([A1, A2])\n",
    "poly_Psi42_As4 = expand(poly_Psi42[h**4].subs(b1, A2s[0]).subs(b2, A2s[1]))\n",
    "\n",
    "poly_Psi42_As4 = simplify(poly_Psi42_As4)\n",
    "poly_Psi42_As4"
   ]
  },
  {
   "cell_type": "code",
   "execution_count": 24,
   "metadata": {},
   "outputs": [
    {
     "data": {
      "text/latex": [
       "$\\displaystyle \\frac{3 c_{1}^{5} A_{2}^{5} + 20 \\sqrt{15} c_{1}^{2} c_{12} A_{1} A_{2}^{3} - 20 \\sqrt{15} c_{1}^{2} c_{12} A_{2}^{3} A_{1} + 20 \\sqrt{15} c_{1}^{2} c_{12} A_{2}^{3} A_{3} - 20 \\sqrt{15} c_{1}^{2} c_{12} A_{3} A_{2}^{3} + 200 c_{1}^{2} c_{3} A_{1} A_{2}^{2} + 200 c_{1}^{2} c_{3} A_{2} A_{1} A_{2} + 200 c_{1}^{2} c_{3} A_{2} A_{3} A_{2} + 200 c_{1}^{2} c_{3} A_{2}^{2} A_{1} + 200 c_{1}^{2} c_{3} A_{2}^{2} A_{3} - 1200 c_{1}^{2} c_{3} A_{2}^{3} + 200 c_{1}^{2} c_{3} A_{3} A_{2}^{2} + 120 \\sqrt{15} c_{1112} A_{1} A_{2}^{3} - 360 \\sqrt{15} c_{1112} A_{2} A_{1} A_{2}^{2} + 360 \\sqrt{15} c_{1112} A_{2} A_{3} A_{2}^{2} + 360 \\sqrt{15} c_{1112} A_{2}^{2} A_{1} A_{2} - 360 \\sqrt{15} c_{1112} A_{2}^{2} A_{3} A_{2} - 120 \\sqrt{15} c_{1112} A_{2}^{3} A_{1} + 120 \\sqrt{15} c_{1112} A_{2}^{3} A_{3} - 120 \\sqrt{15} c_{1112} A_{3} A_{2}^{3} + 1200 c_{113} A_{1} A_{2}^{2} - 2400 c_{113} A_{2} A_{1} A_{2} - 2400 c_{113} A_{2} A_{3} A_{2} + 1200 c_{113} A_{2}^{2} A_{1} + 1200 c_{113} A_{2}^{2} A_{3} + 1200 c_{113} A_{3} A_{2}^{2} + 1200 c_{212} A_{1} A_{2} A_{1} - 1200 c_{212} A_{1} A_{2} A_{3} + 600 c_{212} A_{1} A_{3} A_{2} - 600 c_{212} A_{1}^{2} A_{2} + 600 c_{212} A_{2} A_{1} A_{3} - 600 c_{212} A_{2} A_{1}^{2} + 600 c_{212} A_{2} A_{3} A_{1} - 600 c_{212} A_{2} A_{3}^{2} + 600 c_{212} A_{3} A_{1} A_{2} - 1200 c_{212} A_{3} A_{2} A_{1} + 1200 c_{212} A_{3} A_{2} A_{3} - 600 c_{212} A_{3}^{2} A_{2} + 800 \\sqrt{15} c_{23} A_{1} A_{2} - 800 \\sqrt{15} c_{23} A_{1} A_{3} - 800 \\sqrt{15} c_{23} A_{2} A_{1} + 800 \\sqrt{15} c_{23} A_{2} A_{3} + 800 \\sqrt{15} c_{23} A_{3} A_{1} - 800 \\sqrt{15} c_{23} A_{3} A_{2}}{360}$"
      ],
      "text/plain": [
       "(3*c1**5*A2**5 + 20*sqrt(15)*c1**2*c12*A1*A2**3 - 20*sqrt(15)*c1**2*c12*A2**3*A1 + 20*sqrt(15)*c1**2*c12*A2**3*A3 - 20*sqrt(15)*c1**2*c12*A3*A2**3 + 200*c1**2*c3*A1*A2**2 + 200*c1**2*c3*A2*A1*A2 + 200*c1**2*c3*A2*A3*A2 + 200*c1**2*c3*A2**2*A1 + 200*c1**2*c3*A2**2*A3 - 1200*c1**2*c3*A2**3 + 200*c1**2*c3*A3*A2**2 + 120*sqrt(15)*c1112*A1*A2**3 - 360*sqrt(15)*c1112*A2*A1*A2**2 + 360*sqrt(15)*c1112*A2*A3*A2**2 + 360*sqrt(15)*c1112*A2**2*A1*A2 - 360*sqrt(15)*c1112*A2**2*A3*A2 - 120*sqrt(15)*c1112*A2**3*A1 + 120*sqrt(15)*c1112*A2**3*A3 - 120*sqrt(15)*c1112*A3*A2**3 + 1200*c113*A1*A2**2 - 2400*c113*A2*A1*A2 - 2400*c113*A2*A3*A2 + 1200*c113*A2**2*A1 + 1200*c113*A2**2*A3 + 1200*c113*A3*A2**2 + 1200*c212*A1*A2*A1 - 1200*c212*A1*A2*A3 + 600*c212*A1*A3*A2 - 600*c212*A1**2*A2 + 600*c212*A2*A1*A3 - 600*c212*A2*A1**2 + 600*c212*A2*A3*A1 - 600*c212*A2*A3**2 + 600*c212*A3*A1*A2 - 1200*c212*A3*A2*A1 + 1200*c212*A3*A2*A3 - 600*c212*A3**2*A2 + 800*sqrt(15)*c23*A1*A2 - 800*sqrt(15)*c23*A1*A3 - 800*sqrt(15)*c23*A2*A1 + 800*sqrt(15)*c23*A2*A3 + 800*sqrt(15)*c23*A3*A1 - 800*sqrt(15)*c23*A3*A2)/360"
      ]
     },
     "execution_count": 24,
     "metadata": {},
     "output_type": "execute_result"
    }
   ],
   "source": [
    "Q = generate_Q(3)\n",
    "T = generate_T(3)\n",
    "R = T.inv()\n",
    "A3s = R @ Q @ Matrix([A1, A2, A3])\n",
    "poly_M6_As5 = expand(poly_M6[h**5].subs(b1, A3s[0]).subs(b2, A3s[1]).subs(b3, A3s[2]))\n",
    "\n",
    "poly_M6_As5 = simplify(poly_M6_As5)\n",
    "\n",
    "poly_M6_As5"
   ]
  },
  {
   "cell_type": "code",
   "execution_count": 26,
   "metadata": {},
   "outputs": [
    {
     "data": {
      "text/latex": [
       "$\\displaystyle \\frac{15 c_{1} \\left(c_{1}^{3} \\left(A_{1} A_{2}\\right)^{2} + c_{1}^{3} \\left(A_{2} A_{1}\\right)^{2} + c_{1}^{3} A_{1} A_{2} A_{1}^{2} + c_{1}^{3} A_{1} A_{2}^{2} A_{1} + c_{1}^{3} A_{1} A_{2}^{3} + c_{1}^{3} A_{1}^{2} A_{2} A_{1} + c_{1}^{3} A_{1}^{2} A_{2}^{2} + c_{1}^{3} A_{1}^{3} A_{2} + c_{1}^{3} A_{1}^{4} + c_{1}^{3} A_{2} A_{1} A_{2}^{2} + c_{1}^{3} A_{2} A_{1}^{2} A_{2} + c_{1}^{3} A_{2} A_{1}^{3} + c_{1}^{3} A_{2}^{2} A_{1} A_{2} + c_{1}^{3} A_{2}^{2} A_{1}^{2} + c_{1}^{3} A_{2}^{3} A_{1} + c_{1}^{3} A_{2}^{4} + 96 \\sqrt{3} c_{12} A_{1} A_{2}^{2} + 96 \\sqrt{3} c_{12} A_{1}^{2} A_{2} - 96 \\sqrt{3} c_{12} A_{2} A_{1}^{2} - 96 \\sqrt{3} c_{12} A_{2}^{2} A_{1}\\right) - 16 \\cdot \\left(3 c_{1}^{5} A_{2}^{5} + 20 \\sqrt{15} c_{1}^{2} c_{12} A_{1} A_{2}^{3} - 20 \\sqrt{15} c_{1}^{2} c_{12} A_{2}^{3} A_{1} + 20 \\sqrt{15} c_{1}^{2} c_{12} A_{2}^{3} A_{3} - 20 \\sqrt{15} c_{1}^{2} c_{12} A_{3} A_{2}^{3} + 200 c_{1}^{2} c_{3} A_{1} A_{2}^{2} + 200 c_{1}^{2} c_{3} A_{2} A_{1} A_{2} + 200 c_{1}^{2} c_{3} A_{2} A_{3} A_{2} + 200 c_{1}^{2} c_{3} A_{2}^{2} A_{1} + 200 c_{1}^{2} c_{3} A_{2}^{2} A_{3} - 1200 c_{1}^{2} c_{3} A_{2}^{3} + 200 c_{1}^{2} c_{3} A_{3} A_{2}^{2} + 120 \\sqrt{15} c_{1112} A_{1} A_{2}^{3} - 360 \\sqrt{15} c_{1112} A_{2} A_{1} A_{2}^{2} + 360 \\sqrt{15} c_{1112} A_{2} A_{3} A_{2}^{2} + 360 \\sqrt{15} c_{1112} A_{2}^{2} A_{1} A_{2} - 360 \\sqrt{15} c_{1112} A_{2}^{2} A_{3} A_{2} - 120 \\sqrt{15} c_{1112} A_{2}^{3} A_{1} + 120 \\sqrt{15} c_{1112} A_{2}^{3} A_{3} - 120 \\sqrt{15} c_{1112} A_{3} A_{2}^{3} + 1200 c_{113} A_{1} A_{2}^{2} - 2400 c_{113} A_{2} A_{1} A_{2} - 2400 c_{113} A_{2} A_{3} A_{2} + 1200 c_{113} A_{2}^{2} A_{1} + 1200 c_{113} A_{2}^{2} A_{3} + 1200 c_{113} A_{3} A_{2}^{2} + 1200 c_{212} A_{1} A_{2} A_{1} - 1200 c_{212} A_{1} A_{2} A_{3} + 600 c_{212} A_{1} A_{3} A_{2} - 600 c_{212} A_{1}^{2} A_{2} + 600 c_{212} A_{2} A_{1} A_{3} - 600 c_{212} A_{2} A_{1}^{2} + 600 c_{212} A_{2} A_{3} A_{1} - 600 c_{212} A_{2} A_{3}^{2} + 600 c_{212} A_{3} A_{1} A_{2} - 1200 c_{212} A_{3} A_{2} A_{1} + 1200 c_{212} A_{3} A_{2} A_{3} - 600 c_{212} A_{3}^{2} A_{2} + 800 \\sqrt{15} c_{23} A_{1} A_{2} - 800 \\sqrt{15} c_{23} A_{1} A_{3} - 800 \\sqrt{15} c_{23} A_{2} A_{1} + 800 \\sqrt{15} c_{23} A_{2} A_{3} + 800 \\sqrt{15} c_{23} A_{3} A_{1} - 800 \\sqrt{15} c_{23} A_{3} A_{2}\\right)}{5760}$"
      ],
      "text/plain": [
       "(15*c1*(c1**3*(A1*A2)**2 + c1**3*(A2*A1)**2 + c1**3*A1*A2*A1**2 + c1**3*A1*A2**2*A1 + c1**3*A1*A2**3 + c1**3*A1**2*A2*A1 + c1**3*A1**2*A2**2 + c1**3*A1**3*A2 + c1**3*A1**4 + c1**3*A2*A1*A2**2 + c1**3*A2*A1**2*A2 + c1**3*A2*A1**3 + c1**3*A2**2*A1*A2 + c1**3*A2**2*A1**2 + c1**3*A2**3*A1 + c1**3*A2**4 + 96*sqrt(3)*c12*A1*A2**2 + 96*sqrt(3)*c12*A1**2*A2 - 96*sqrt(3)*c12*A2*A1**2 - 96*sqrt(3)*c12*A2**2*A1) - 16*(3*c1**5*A2**5 + 20*sqrt(15)*c1**2*c12*A1*A2**3 - 20*sqrt(15)*c1**2*c12*A2**3*A1 + 20*sqrt(15)*c1**2*c12*A2**3*A3 - 20*sqrt(15)*c1**2*c12*A3*A2**3 + 200*c1**2*c3*A1*A2**2 + 200*c1**2*c3*A2*A1*A2 + 200*c1**2*c3*A2*A3*A2 + 200*c1**2*c3*A2**2*A1 + 200*c1**2*c3*A2**2*A3 - 1200*c1**2*c3*A2**3 + 200*c1**2*c3*A3*A2**2 + 120*sqrt(15)*c1112*A1*A2**3 - 360*sqrt(15)*c1112*A2*A1*A2**2 + 360*sqrt(15)*c1112*A2*A3*A2**2 + 360*sqrt(15)*c1112*A2**2*A1*A2 - 360*sqrt(15)*c1112*A2**2*A3*A2 - 120*sqrt(15)*c1112*A2**3*A1 + 120*sqrt(15)*c1112*A2**3*A3 - 120*sqrt(15)*c1112*A3*A2**3 + 1200*c113*A1*A2**2 - 2400*c113*A2*A1*A2 - 2400*c113*A2*A3*A2 + 1200*c113*A2**2*A1 + 1200*c113*A2**2*A3 + 1200*c113*A3*A2**2 + 1200*c212*A1*A2*A1 - 1200*c212*A1*A2*A3 + 600*c212*A1*A3*A2 - 600*c212*A1**2*A2 + 600*c212*A2*A1*A3 - 600*c212*A2*A1**2 + 600*c212*A2*A3*A1 - 600*c212*A2*A3**2 + 600*c212*A3*A1*A2 - 1200*c212*A3*A2*A1 + 1200*c212*A3*A2*A3 - 600*c212*A3**2*A2 + 800*sqrt(15)*c23*A1*A2 - 800*sqrt(15)*c23*A1*A3 - 800*sqrt(15)*c23*A2*A1 + 800*sqrt(15)*c23*A2*A3 + 800*sqrt(15)*c23*A3*A1 - 800*sqrt(15)*c23*A3*A2))/5760"
      ]
     },
     "execution_count": 26,
     "metadata": {},
     "output_type": "execute_result"
    }
   ],
   "source": [
    "diff = simplify(poly_Psi42_As4 - poly_M6_As5)\n",
    "diff"
   ]
  },
  {
   "cell_type": "markdown",
   "metadata": {},
   "source": [
    "## Checking that adding $\\frac{1}{12}b_3$ does not change things"
   ]
  },
  {
   "cell_type": "code",
   "execution_count": null,
   "metadata": {},
   "outputs": [
    {
     "name": "stdout",
     "output_type": "stream",
     "text": [
      "Error for each error term:\n"
     ]
    },
    {
     "data": {
      "image/png": "[encoded data removed]",
      "text/latex": [
       "$\\displaystyle h$"
      ],
      "text/plain": [
       "h"
      ]
     },
     "metadata": {},
     "output_type": "display_data"
    },
    {
     "data": {
      "image/png": "[encoded data removed]",
      "text/latex": [
       "$\\displaystyle \\text{True}$"
      ],
      "text/plain": [
       "True"
      ]
     },
     "metadata": {},
     "output_type": "display_data"
    },
    {
     "data": {
      "image/png": "[encoded data removed]",
      "text/latex": [
       "$\\displaystyle h^{2}$"
      ],
      "text/plain": [
       " 2\n",
       "h "
      ]
     },
     "metadata": {},
     "output_type": "display_data"
    },
    {
     "data": {
      "image/png": "[encoded data removed]",
      "text/latex": [
       "$\\displaystyle \\text{True}$"
      ],
      "text/plain": [
       "True"
      ]
     },
     "metadata": {},
     "output_type": "display_data"
    },
    {
     "data": {
      "image/png": "[encoded data removed]",
      "text/latex": [
       "$\\displaystyle h^{3}$"
      ],
      "text/plain": [
       " 3\n",
       "h "
      ]
     },
     "metadata": {},
     "output_type": "display_data"
    },
    {
     "data": {
      "image/png": "[encoded data removed]",
      "text/latex": [
       "$\\displaystyle \\frac{c_{1}^{3} b_{1}^{3}}{6} + c_{12} b_{1} b_{2} - c_{12} b_{2} b_{1} + c_{3} b_{3} = \\frac{c_{1}^{3} b_{1}^{3}}{6} + c_{12} b_{1} b_{2} - c_{12} b_{2} b_{1}$"
      ],
      "text/plain": [
       "  3   3                                     3   3                        \n",
       "c₁ ⋅b₁                                    c₁ ⋅b₁                         \n",
       "─────── + c₁₂⋅b₁⋅b₂ - c₁₂⋅b₂⋅b₁ + c₃⋅b₃ = ─────── + c₁₂⋅b₁⋅b₂ - c₁₂⋅b₂⋅b₁\n",
       "   6                                         6                           "
      ]
     },
     "metadata": {},
     "output_type": "display_data"
    },
    {
     "data": {
      "image/png": "[encoded data removed]",
      "text/latex": [
       "$\\displaystyle h^{4}$"
      ],
      "text/plain": [
       " 4\n",
       "h "
      ]
     },
     "metadata": {},
     "output_type": "display_data"
    },
    {
     "data": {
      "image/png": "[encoded data removed]",
      "text/latex": [
       "$\\displaystyle \\frac{c_{1}^{4} b_{1}^{4}}{24} + \\frac{c_{1} c_{12} b_{1}^{2} b_{2}}{2} - \\frac{c_{1} c_{12} b_{2} b_{1}^{2}}{2} + \\frac{c_{1} c_{3} b_{1} b_{3}}{2} + \\frac{c_{1} c_{3} b_{3} b_{1}}{2} = \\frac{c_{1}^{4} b_{1}^{4}}{24} + \\frac{c_{1} c_{12} b_{1}^{2} b_{2}}{2} - \\frac{c_{1} c_{12} b_{2} b_{1}^{2}}{2}$"
      ],
      "text/plain": [
       "  4   4            2                  2                                 4   4 \n",
       "c₁ ⋅b₁    c₁⋅c₁₂⋅b₁ ⋅b₂   c₁⋅c₁₂⋅b₂⋅b₁    c₁⋅c₃⋅b₁⋅b₃   c₁⋅c₃⋅b₃⋅b₁   c₁ ⋅b₁  \n",
       "─────── + ───────────── - ───────────── + ─────────── + ─────────── = ─────── \n",
       "   24           2               2              2             2           24   \n",
       "\n",
       "           2                  2\n",
       "  c₁⋅c₁₂⋅b₁ ⋅b₂   c₁⋅c₁₂⋅b₂⋅b₁ \n",
       "+ ───────────── - ─────────────\n",
       "        2               2      "
      ]
     },
     "metadata": {},
     "output_type": "display_data"
    },
    {
     "data": {
      "image/png": "[encoded data removed]",
      "text/latex": [
       "$\\displaystyle 1$"
      ],
      "text/plain": [
       "1"
      ]
     },
     "metadata": {},
     "output_type": "display_data"
    },
    {
     "data": {
      "image/png": "[encoded data removed]",
      "text/latex": [
       "$\\displaystyle \\text{True}$"
      ],
      "text/plain": [
       "True"
      ]
     },
     "metadata": {},
     "output_type": "display_data"
    }
   ],
   "source": [
    "Sigma4w3 = (c1 * b1 * h) + h**3 * (c12 * Commutator(b1, b2) + c3*b3)\n",
    "\n",
    "M4w3 = simplify(exp(Sigma4w3).series(h, 0, n=5))\n",
    "poly_M4w3 = collect(expand(M4w3), h, evaluate = False)\n",
    "\n",
    "print('Error for each error term:')\n",
    "for k in poly_M4.keys():\n",
    "    display(k,  Eq(poly_M4w3[k], poly_M4[k]))\n",
    "\n"
   ]
  },
  {
   "cell_type": "code",
   "execution_count": null,
   "metadata": {},
   "outputs": [
    {
     "data": {
      "image/png": "[encoded data removed]",
      "text/latex": [
       "$\\displaystyle - \\frac{472115 b_{1} b_{3}}{2304} - \\frac{472115 b_{3} b_{1}}{2304}$"
      ],
      "text/plain": [
       "  472115⋅b₁⋅b₃   472115⋅b₃⋅b₁\n",
       "- ──────────── - ────────────\n",
       "      2304           2304    "
      ]
     },
     "execution_count": 44,
     "metadata": {},
     "output_type": "execute_result"
    }
   ],
   "source": [
    "b1v = Matrix([b1, 0, 0])\n",
    "b3v = Matrix([0, 0, b3])\n",
    "As = Q.inv() @ R.inv() @ Matrix([b1, b2, b3])"
   ]
  },
  {
   "cell_type": "code",
   "execution_count": null,
   "metadata": {},
   "outputs": [
    {
     "data": {
      "image/png": "[encoded data removed]",
      "text/latex": [
       "$\\displaystyle c_{1} h \\left(\\frac{h A_{1}}{2} + \\frac{h A_{2}}{2}\\right) + c_{12} h^{3} \\left[\\frac{h A_{1}}{2} + \\frac{h A_{2}}{2},- \\sqrt{3} h A_{1} + \\sqrt{3} h A_{2}\\right]$"
      ],
      "text/plain": [
       "     ⎛h⋅A₁   h⋅A₂⎞        3 ⎡h⋅A₁   h⋅A₂                   ⎤\n",
       "c₁⋅h⋅⎜──── + ────⎟ + c₁₂⋅h ⋅⎢──── + ────,-√3⋅h⋅A₁ + √3⋅h⋅A₂⎥\n",
       "     ⎝ 2      2  ⎠          ⎣ 2      2                     ⎦"
      ]
     },
     "execution_count": 66,
     "metadata": {},
     "output_type": "execute_result"
    }
   ],
   "source": [
    "Q = generate_Q(2)\n",
    "T = generate_T(2)\n",
    "R = T.inv()\n",
    "bm2 = h * R @ Q @ Matrix([A1, A2])\n",
    "\n",
    "Sigma4.subs(b1, bm2[0]).subs(b2, bm2[1])"
   ]
  },
  {
   "cell_type": "code",
   "execution_count": null,
   "metadata": {},
   "outputs": [
    {
     "data": {
      "image/png": "[encoded data removed]",
      "text/latex": [
       "$\\displaystyle c_{1} h^{2} A_{2} + h^{5} \\left(- c_{1112} h^{3} \\left[\\left[\\left[- \\frac{\\sqrt{15} h A_{1}}{3} + \\frac{\\sqrt{15} h A_{3}}{3},A_{2}\\right],A_{2}\\right],A_{2}\\right] + c_{113} h^{2} \\left[\\left[\\frac{10 h A_{1}}{3} - \\frac{20 h A_{2}}{3} + \\frac{10 h A_{3}}{3},A_{2}\\right],A_{2}\\right] - c_{212} h \\left[- \\frac{\\sqrt{15} h A_{1}}{3} + \\frac{\\sqrt{15} h A_{3}}{3},\\left[- \\frac{\\sqrt{15} h A_{1}}{3} + \\frac{\\sqrt{15} h A_{3}}{3},A_{2}\\right]\\right] + c_{23} \\left[- \\frac{\\sqrt{15} h A_{1}}{3} + \\frac{\\sqrt{15} h A_{3}}{3},\\frac{10 h A_{1}}{3} - \\frac{20 h A_{2}}{3} + \\frac{10 h A_{3}}{3}\\right]\\right) + h^{3} \\left(- c_{12} h \\left[- \\frac{\\sqrt{15} h A_{1}}{3} + \\frac{\\sqrt{15} h A_{3}}{3},A_{2}\\right] + c_{3} \\cdot \\left(\\frac{10 h A_{1}}{3} - \\frac{20 h A_{2}}{3} + \\frac{10 h A_{3}}{3}\\right)\\right)$"
      ],
      "text/plain": [
       "    2       5 ⎛         3 ⎡⎡⎡  √15⋅h⋅A₁   √15⋅h⋅A₃   ⎤   ⎤   ⎤         2 ⎡⎡10⋅\n",
       "c₁⋅h ⋅A₂ + h ⋅⎜- c₁₁₁₂⋅h ⋅⎢⎢⎢- ──────── + ────────,A₂⎥,A₂⎥,A₂⎥ + c₁₁₃⋅h ⋅⎢⎢───\n",
       "              ⎝           ⎣⎣⎣     3          3       ⎦   ⎦   ⎦           ⎣⎣   \n",
       "\n",
       "h⋅A₁   20⋅h⋅A₂   10⋅h⋅A₃   ⎤   ⎤          ⎡  √15⋅h⋅A₁   √15⋅h⋅A₃ ⎡  √15⋅h⋅A₁  \n",
       "──── - ─────── + ───────,A₂⎥,A₂⎥ - c₂₁₂⋅h⋅⎢- ──────── + ────────,⎢- ──────── +\n",
       "3         3         3      ⎦   ⎦          ⎣     3          3     ⎣     3      \n",
       "\n",
       " √15⋅h⋅A₃   ⎤⎤       ⎡  √15⋅h⋅A₁   √15⋅h⋅A₃ 10⋅h⋅A₁   20⋅h⋅A₂   10⋅h⋅A₃⎤⎞    3\n",
       " ────────,A₂⎥⎥ + c₂₃⋅⎢- ──────── + ────────,─────── - ─────── + ───────⎥⎟ + h \n",
       "    3       ⎦⎦       ⎣     3          3        3         3         3   ⎦⎠     \n",
       "\n",
       " ⎛        ⎡  √15⋅h⋅A₁   √15⋅h⋅A₃   ⎤      ⎛10⋅h⋅A₁   20⋅h⋅A₂   10⋅h⋅A₃⎞⎞\n",
       "⋅⎜- c₁₂⋅h⋅⎢- ──────── + ────────,A₂⎥ + c₃⋅⎜─────── - ─────── + ───────⎟⎟\n",
       " ⎝        ⎣     3          3       ⎦      ⎝   3         3         3   ⎠⎠"
      ]
     },
     "execution_count": 65,
     "metadata": {},
     "output_type": "execute_result"
    }
   ],
   "source": [
    "Q = generate_Q(3)\n",
    "T = generate_T(3)\n",
    "R = T.inv()\n",
    "bm3 = h * R @ Q @ Matrix([A1, A2, A3])\n",
    "\n",
    "Sigma6.subs(b1, bm3[0]).subs(b2, bm3[1]).subs(b3, bm3[2])"
   ]
  },
  {
   "cell_type": "code",
   "execution_count": null,
   "metadata": {},
   "outputs": [
    {
     "data": {
      "image/png": "[encoded data removed]",
      "text/latex": [
       "$\\displaystyle 1 + 2 h x_{1,1} \\left(\\frac{h A_{1}}{2} + \\frac{h A_{2}}{2}\\right) + 2 h^{2} x_{1,1}^{2} \\left(\\frac{h A_{1}}{2} + \\frac{h A_{2}}{2}\\right)^{2} + \\frac{h^{3} x_{1,1} \\cdot \\left(4 x_{1,1}^{2} \\left(\\frac{h A_{1}}{2} + \\frac{h A_{2}}{2}\\right)^{3} - 3 x_{1,2} \\left(\\frac{h A_{1}}{2} + \\frac{h A_{2}}{2}\\right) \\left(- \\sqrt{3} h A_{1} + \\sqrt{3} h A_{2}\\right) + 3 x_{1,2} \\left(- \\sqrt{3} h A_{1} + \\sqrt{3} h A_{2}\\right) \\left(\\frac{h A_{1}}{2} + \\frac{h A_{2}}{2}\\right)\\right)}{3} + O\\left(h^{7}\\right)$"
      ],
      "text/plain": [
       "                                                                          ⎛   \n",
       "                                                                3         ⎜   \n",
       "                                                           2   h ⋅x_{1,1}⋅⎜4⋅x\n",
       "                ⎛h⋅A₁   h⋅A₂⎞      2        2 ⎛h⋅A₁   h⋅A₂⎞               ⎝   \n",
       "1 + 2⋅h⋅x_{1,1}⋅⎜──── + ────⎟ + 2⋅h ⋅x_{1,1} ⋅⎜──── + ────⎟  + ───────────────\n",
       "                ⎝ 2      2  ⎠                 ⎝ 2      2  ⎠                   \n",
       "\n",
       "                     3                                                        \n",
       "      2 ⎛h⋅A₁   h⋅A₂⎞              ⎛h⋅A₁   h⋅A₂⎞                              \n",
       "_{1,1} ⋅⎜──── + ────⎟  - 3⋅x_{1,2}⋅⎜──── + ────⎟⋅(-√3⋅h⋅A₁ + √3⋅h⋅A₂) + 3⋅x_{1\n",
       "        ⎝ 2      2  ⎠              ⎝ 2      2  ⎠                              \n",
       "──────────────────────────────────────────────────────────────────────────────\n",
       "                                                  3                           \n",
       "\n",
       "                                      ⎞        \n",
       "                         ⎛h⋅A₁   h⋅A₂⎞⎟        \n",
       ",2}⋅(-√3⋅h⋅A₁ + √3⋅h⋅A₂)⋅⎜──── + ────⎟⎟        \n",
       "                         ⎝ 2      2  ⎠⎠    ⎛ 7⎞\n",
       "─────────────────────────────────────── + O⎝h ⎠\n",
       "                                               "
      ]
     },
     "execution_count": 67,
     "metadata": {},
     "output_type": "execute_result"
    }
   ],
   "source": [
    "Q = generate_Q(2)\n",
    "T = generate_T(2)\n",
    "R = T.inv()\n",
    "bm2 = h * R @ Q @ Matrix([A1, A2])\n",
    "\n",
    "poly_psi42.subs(b1, bm2[0]).subs(b2, bm2[1])"
   ]
  },
  {
   "cell_type": "code",
   "execution_count": null,
   "metadata": {},
   "outputs": [
    {
     "data": {
      "image/png": "[encoded data removed]",
      "text/latex": [
       "$\\displaystyle c_{1} h b_{1} + c_{12} h^{3} \\left[b_{1},b_{2}\\right]$"
      ],
      "text/plain": [
       "               3        \n",
       "c₁⋅h⋅b₁ + c₁₂⋅h ⋅[b₁,b₂]"
      ]
     },
     "execution_count": 57,
     "metadata": {},
     "output_type": "execute_result"
    }
   ],
   "source": []
  },
  {
   "cell_type": "markdown",
   "metadata": {},
   "source": [
    "## $A^{(0)}$ reproduces $\\frac{1}{12} b_3$ when a quadrature of order $2$ is used"
   ]
  },
  {
   "cell_type": "markdown",
   "metadata": {},
   "source": [
    "First we need to get rid of the $h$ factors in the $b_i$ basis, as the $b_i$ already includes a $h^i$ factor. Let us remember the expression for $\\Omega^{[4]}$:"
   ]
  },
  {
   "cell_type": "code",
   "execution_count": 51,
   "metadata": {},
   "outputs": [
    {
     "data": {
      "text/latex": [
       "$\\displaystyle c_{1} b_{1} + c_{12} \\left[b_{1},b_{2}\\right]$"
      ],
      "text/plain": [
       "c1*b1 + c12*[b1,b2]"
      ]
     },
     "execution_count": 51,
     "metadata": {},
     "output_type": "execute_result"
    }
   ],
   "source": [
    "Sigma4.subs(h, 1)"
   ]
  },
  {
   "cell_type": "markdown",
   "metadata": {},
   "source": [
    "We first move to the ${A^{(i)}}$ basis."
   ]
  },
  {
   "cell_type": "code",
   "execution_count": 56,
   "metadata": {},
   "outputs": [
    {
     "data": {
      "text/latex": [
       "$\\displaystyle c_{1} A^{(0)} + 12 c_{12} \\left[A^{(0)},A^{(1)}\\right]$"
      ],
      "text/plain": [
       "c1*A^{(0)} + 12*c12*[A^{(0)},A^{(1)}]"
      ]
     },
     "execution_count": 56,
     "metadata": {},
     "output_type": "execute_result"
    }
   ],
   "source": [
    "Q2 = generate_Q(2)\n",
    "T2 = generate_T(2)\n",
    "R2 = T2.inv()\n",
    "\n",
    "Ad = Matrix([A1_, A2_])\n",
    "Au = Matrix([A0u, A1u])\n",
    "bs = Matrix([b1, b2])\n",
    "\n",
    "# bs = R Au = R Q Ad\n",
    "bs = R2 @ Au\n",
    "\n",
    "# Replace in Sigma4\n",
    "Sigma4u = Sigma4.subs(b1, bs[0]).subs(b2, bs[1]).subs(h, 1)\n",
    "\n",
    "Sigma4u"
   ]
  },
  {
   "cell_type": "markdown",
   "metadata": {},
   "source": [
    "We can check that the expression in the $A^{(i)}$ basis is correct up to order $O(h^5)$, and automatically includes the missing $\\frac{1}{12}b_3 = O(h^3)$ term. "
   ]
  },
  {
   "cell_type": "code",
   "execution_count": 57,
   "metadata": {},
   "outputs": [
    {
     "data": {
      "text/latex": [
       "$\\displaystyle c_{1} \\left(b_{1} + \\frac{b_{3}}{12}\\right) + c_{12} \\left[b_{1} + \\frac{b_{3}}{12},b_{2}\\right]$"
      ],
      "text/plain": [
       "c1*(b1 + b3/12) + c12*[b1 + b3/12,b2]"
      ]
     },
     "execution_count": 57,
     "metadata": {},
     "output_type": "execute_result"
    }
   ],
   "source": [
    "Q3 = generate_Q(3)\n",
    "T3 = generate_T(3)\n",
    "R3 = T3.inv()\n",
    "\n",
    "bs = Matrix([b1, b2, b3])\n",
    "Au = T3 @ bs\n",
    "\n",
    "# Replace in Sigma4_\n",
    "Sigma4_3 = Sigma4u.subs(A0u, Au[0]).subs(A1u, Au[1]).subs(A2u, Au[2]).subs(h, 1)\n",
    "\n",
    "Sigma4_3"
   ]
  },
  {
   "cell_type": "markdown",
   "metadata": {},
   "source": [
    "Which coincides with $\\Omega^{[4]}$ up to a factor proportional to $[b_3, b_2]$, which is $O(h^5)$, but including the terms that appear in $\\Omega^{[6]}$.\n",
    "\n",
    "Consequently, to compare the error of two approximations, we need to take both expressions in the $A^{(i)}$ basis. Then, we convert the difference back to the original $A_i$ basis, using the quadrature for the higher order one.\n",
    "\n",
    "Note that it is important to use the same quadrature for both approximations, otherwise there will be a difference. Let us show it:"
   ]
  },
  {
   "cell_type": "code",
   "execution_count": 58,
   "metadata": {},
   "outputs": [
    {
     "data": {
      "text/latex": [
       "$\\displaystyle c_{1} \\left(\\frac{A_{1}}{2} + \\frac{A_{2}}{2}\\right) + c_{12} \\left[\\frac{A_{1}}{2} + \\frac{A_{2}}{2},- \\sqrt{3} A_{1} + \\sqrt{3} A_{2}\\right]$"
      ],
      "text/plain": [
       "c1*(A_1/2 + A_2/2) + c12*[A_1/2 + A_2/2,-sqrt(3)*A_1 + sqrt(3)*A_2]"
      ]
     },
     "execution_count": 58,
     "metadata": {},
     "output_type": "execute_result"
    }
   ],
   "source": [
    "Ad = Matrix([A1_, A2_])\n",
    "Au = Matrix([A0u, A1u])\n",
    "bs = Matrix([b1, b2])\n",
    "\n",
    "# bs = R Au = R Q Ad\n",
    "bs = R2 @ Q2 @ Ad\n",
    "\n",
    "# Replace in Sigma4\n",
    "Sigma4_ = Sigma4.subs(b1, bs[0]).subs(b2, bs[1]).subs(h, 1)\n",
    "\n",
    "Sigma4_"
   ]
  },
  {
   "cell_type": "code",
   "execution_count": 61,
   "metadata": {},
   "outputs": [
    {
     "data": {
      "text/latex": [
       "$\\displaystyle c_{1} \\left(\\frac{- \\frac{11 \\sqrt{15} b_{1}}{432} - \\frac{17 \\sqrt{15} b_{3}}{8640}}{2} + \\frac{\\frac{65 b_{1}}{216} + \\frac{b_{2}}{27} + \\frac{23 b_{3}}{864}}{2}\\right) + c_{12} \\left[\\frac{- \\frac{11 \\sqrt{15} b_{1}}{432} - \\frac{17 \\sqrt{15} b_{3}}{8640}}{2} + \\frac{\\frac{65 b_{1}}{216} + \\frac{b_{2}}{27} + \\frac{23 b_{3}}{864}}{2},\\sqrt{3} \\left(- \\frac{11 \\sqrt{15} b_{1}}{432} - \\frac{17 \\sqrt{15} b_{3}}{8640}\\right) - \\sqrt{3} \\cdot \\left(\\frac{65 b_{1}}{216} + \\frac{b_{2}}{27} + \\frac{23 b_{3}}{864}\\right)\\right]$"
      ],
      "text/plain": [
       "c1*((-11*sqrt(15)*b1/432 - 17*sqrt(15)*b3/8640)/2 + (65*b1/216 + b2/27 + 23*b3/864)/2) + c12*[(-11*sqrt(15)*b1/432 - 17*sqrt(15)*b3/8640)/2 + (65*b1/216 + b2/27 + 23*b3/864)/2,sqrt(3)*(-11*sqrt(15)*b1/432 - 17*sqrt(15)*b3/8640) - sqrt(3)*(65*b1/216 + b2/27 + 23*b3/864)]"
      ]
     },
     "execution_count": 61,
     "metadata": {},
     "output_type": "execute_result"
    }
   ],
   "source": [
    "bs = Matrix([b1, b2, b3])\n",
    "Ad = Q3 @ T3 @ bs\n",
    "\n",
    "# Replace in Sigma4_\n",
    "Sigma4_3 = Sigma4_.subs(A1_, Ad[0]).subs(A2_, Ad[1]).subs(A3_, Ad[2]).subs(h, 1)\n",
    "\n",
    "Sigma4_3"
   ]
  },
  {
   "cell_type": "code",
   "execution_count": 62,
   "metadata": {},
   "outputs": [
    {
     "data": {
      "text/latex": [
       "$\\displaystyle c_{1} h b_{1} + c_{12} h^{3} \\left[b_{1},b_{2}\\right]$"
      ],
      "text/plain": [
       "c1*h*b1 + c12*h**3*[b1,b2]"
      ]
     },
     "execution_count": 62,
     "metadata": {},
     "output_type": "execute_result"
    }
   ],
   "source": [
    "Sigma4"
   ]
  },
  {
   "cell_type": "markdown",
   "metadata": {},
   "source": [
    "## Doing the same for terms $\\frac{1}{80}b_5 - \\frac{1}{80}[1,5]$"
   ]
  },
  {
   "cell_type": "code",
   "execution_count": 79,
   "metadata": {},
   "outputs": [
    {
     "data": {
      "text/latex": [
       "$\\displaystyle 0.0833333333333333 \\left(- 15 A^{(0)} + 180 A^{(2)}\\right) - 0.05 \\left[- 15 A^{(0)} + 180 A^{(2)},A^{(1)}\\right] - 0.00277777777777778 \\left[\\frac{9 A^{(0)}}{4} - 15 A^{(2)},\\left[- 15 A^{(0)} + 180 A^{(2)},\\frac{9 A^{(0)}}{4} - 15 A^{(2)}\\right]\\right] + 0.0166666666666667 \\left[\\frac{9 A^{(0)}}{4} - 15 A^{(2)},\\left[\\frac{9 A^{(0)}}{4} - 15 A^{(2)},\\left[\\frac{9 A^{(0)}}{4} - 15 A^{(2)},A^{(1)}\\right]\\right]\\right] - 1.0 \\left[\\frac{9 A^{(0)}}{4} - 15 A^{(2)},A^{(1)}\\right] + 0.6 \\left[\\left[\\frac{9 A^{(0)}}{4} - 15 A^{(2)},A^{(1)}\\right],A^{(1)}\\right] + \\frac{9 A^{(0)}}{4} - 15 A^{(2)}$"
      ],
      "text/plain": [
       "0.0833333333333333*(-15*A^{(0)} + 180*A^{(2)}) - 0.05*[-15*A^{(0)} + 180*A^{(2)},A^{(1)}] - 0.00277777777777778*[9*A^{(0)}/4 - 15*A^{(2)},[-15*A^{(0)} + 180*A^{(2)},9*A^{(0)}/4 - 15*A^{(2)}]] + 0.0166666666666667*[9*A^{(0)}/4 - 15*A^{(2)},[9*A^{(0)}/4 - 15*A^{(2)},[9*A^{(0)}/4 - 15*A^{(2)},A^{(1)}]]] - 1.0*[9*A^{(0)}/4 - 15*A^{(2)},A^{(1)}] + 0.6*[[9*A^{(0)}/4 - 15*A^{(2)},A^{(1)}],A^{(1)}] + 9*A^{(0)}/4 - 15*A^{(2)}"
      ]
     },
     "execution_count": 79,
     "metadata": {},
     "output_type": "execute_result"
    }
   ],
   "source": [
    "Q3 = generate_Q(3)\n",
    "T3 = generate_T(3)\n",
    "R3 = T3.inv()\n",
    "\n",
    "Ad = Matrix([A1_, A2_, A3_])\n",
    "Au = Matrix([A0u, A1u, A2u])\n",
    "bs = Matrix([b1, b2, b3])\n",
    "\n",
    "# bs = R Au = R Q Ad\n",
    "bs = R3 @ Au\n",
    "\n",
    "# Replace in Sigma4\n",
    "Sigma6u = Sigma6.subs(b1, bs[0]).subs(b2, bs[1]).subs(b3, bs[2]).subs(h, 1)\n",
    "\n",
    "Sigma6u_subs = Sigma6u.subs(c1, 1).subs(c12, -1/12).subs(c1112, 1/720).subs(c113, 1/360).subs(c23, 1/240).subs(c212, -1/240).subs(c3, 1/12)\n",
    "Sigma6u_subs"
   ]
  },
  {
   "cell_type": "markdown",
   "metadata": {},
   "source": [
    "We can see that only the terms with a single commutator contribute. Let us check, that the sum of those terms is equivalent to\n",
    "$$[A^{(1)}, \\frac{3}{2}A^{(0)}-6A^{(2)}].$$\n"
   ]
  },
  {
   "cell_type": "code",
   "execution_count": 80,
   "metadata": {},
   "outputs": [
    {
     "data": {
      "text/latex": [
       "$\\displaystyle - 1.5 A^{(0)} A^{(1)} + 1.5 A^{(1)} A^{(0)} - 6.0 A^{(1)} A^{(2)} + 6.0 A^{(2)} A^{(1)}$"
      ],
      "text/plain": [
       "-1.5*A^{(0)}*A^{(1)} + 1.5*A^{(1)}*A^{(0)} - 6.0*A^{(1)}*A^{(2)} + 6.0*A^{(2)}*A^{(1)}"
      ]
     },
     "execution_count": 80,
     "metadata": {},
     "output_type": "execute_result"
    }
   ],
   "source": [
    "expression = -0.05*Commutator(-15*A0u+180*A2u, A1u)-Commutator(9/4*A0u-15*A2u, A1u)\n",
    "simplify(expression)"
   ]
  },
  {
   "cell_type": "code",
   "execution_count": 81,
   "metadata": {},
   "outputs": [
    {
     "data": {
      "text/latex": [
       "$\\displaystyle - (\\left(1.5 A^{(0)} - 6 A^{(2)}\\right) A^{(1)} - A^{(1)} \\left(1.5 A^{(0)} - 6 A^{(2)}\\right))$"
      ],
      "text/plain": [
       "-((1.5*A^{(0)} - 6*A^{(2)})*A^{(1)} - A^{(1)}*(1.5*A^{(0)} - 6*A^{(2)}))"
      ]
     },
     "execution_count": 81,
     "metadata": {},
     "output_type": "execute_result"
    }
   ],
   "source": [
    "comm = Commutator(A1u, 3/2*A0u-6* A2u)\n",
    "simplify(comm)"
   ]
  },
  {
   "cell_type": "markdown",
   "metadata": {},
   "source": [
    "Clearly, both terms are the same. Now let us see that we obtain the factor of $\\frac{1}{80}[b_1, b_4]$."
   ]
  },
  {
   "cell_type": "code",
   "execution_count": 78,
   "metadata": {},
   "outputs": [
    {
     "data": {
      "text/latex": [
       "$\\displaystyle - \\left[- 6 \\left(\\frac{b_{1}}{12} + \\frac{b_{3}}{80}\\right) + 1.5 \\left(b_{1} + \\frac{b_{3}}{12}\\right),\\frac{b_{2}}{12} + \\frac{b_{4}}{80}\\right]$"
      ],
      "text/plain": [
       "-[-6*(b1/12 + b3/80) + 1.5*(b1 + b3/12),b2/12 + b4/80]"
      ]
     },
     "execution_count": 78,
     "metadata": {},
     "output_type": "execute_result"
    }
   ],
   "source": [
    "comm = Commutator(A1u, 3/2*A0u-6* A2u)\n",
    "\n",
    "bs = Matrix([b1, b2, b3, b4])\n",
    "\n",
    "T4 = generate_T(4)\n",
    "Au = T4 @ bs\n",
    "\n",
    "comm_bs = comm.subs(A0u, Au[0]).subs(A1u, Au[1]).subs(A2u, Au[2]).subs(h, 1)\n",
    "comm_bs"
   ]
  },
  {
   "cell_type": "markdown",
   "metadata": {},
   "source": [
    "Since\n",
    "$$-6/12 + 1.5 = 1,$$\n",
    "we obtain the prefactor needed to obtain a factor of \n",
    "$$\\frac{-1}{80}[b_1,b4].$$\n",
    "Alternatively we can see this from the backsubstitution"
   ]
  },
  {
   "cell_type": "code",
   "execution_count": 87,
   "metadata": {},
   "outputs": [
    {
     "data": {
      "text/latex": [
       "$\\displaystyle \\frac{240 b_{1} - 20 b_{1} b_{2} + b_{1} b_{2} b_{1}^{2} + 0.15 b_{1} b_{2} b_{4} + b_{1} b_{2}^{2} - 1.33333333333333 b_{1} b_{3} b_{1} - 3 b_{1} b_{4} + 0.15 b_{1} b_{4} b_{1}^{2} + 0.15 b_{1} b_{4} b_{2} + 0.0225 b_{1} b_{4}^{2} - 1.0 b_{1}^{2} b_{2} b_{1} + 0.666666666666667 b_{1}^{2} b_{3} - 0.15 b_{1}^{2} b_{4} b_{1} + 0.333333333333333 b_{1}^{3} b_{2} + 0.05 b_{1}^{3} b_{4} + 20 b_{2} b_{1} - 2.0 b_{2} b_{1} b_{2} - 0.3 b_{2} b_{1} b_{4} - 0.333333333333333 b_{2} b_{1}^{3} + b_{2} b_{3} + 0.15 b_{2} b_{4} b_{1} + b_{2}^{2} b_{1} + 20.0 b_{3} + 0.666666666666667 b_{3} b_{1}^{2} - 1.0 b_{3} b_{2} - 0.15 b_{3} b_{4} + 3 b_{4} b_{1} - 0.3 b_{4} b_{1} b_{2} - 0.045 b_{4} b_{1} b_{4} - 0.05 b_{4} b_{1}^{3} + 0.15 b_{4} b_{2} b_{1} + 0.15 b_{4} b_{3} + 0.0225 b_{4}^{2} b_{1}}{240}$"
      ],
      "text/plain": [
       "(240*b1 - 20*b1*b2 + b1*b2*b1**2 + 0.15*b1*b2*b4 + b1*b2**2 - 1.33333333333333*b1*b3*b1 - 3*b1*b4 + 0.15*b1*b4*b1**2 + 0.15*b1*b4*b2 + 0.0225*b1*b4**2 - 1.0*b1**2*b2*b1 + 0.666666666666667*b1**2*b3 - 0.15*b1**2*b4*b1 + 0.333333333333333*b1**3*b2 + 0.05*b1**3*b4 + 20*b2*b1 - 2.0*b2*b1*b2 - 0.3*b2*b1*b4 - 0.333333333333333*b2*b1**3 + b2*b3 + 0.15*b2*b4*b1 + b2**2*b1 + 20.0*b3 + 0.666666666666667*b3*b1**2 - 1.0*b3*b2 - 0.15*b3*b4 + 3*b4*b1 - 0.3*b4*b1*b2 - 0.045*b4*b1*b4 - 0.05*b4*b1**3 + 0.15*b4*b2*b1 + 0.15*b4*b3 + 0.0225*b4**2*b1)/240"
      ]
     },
     "execution_count": 87,
     "metadata": {},
     "output_type": "execute_result"
    }
   ],
   "source": [
    "Q4 = generate_Q(4)\n",
    "T4 = generate_T(4)\n",
    "R4 = T4.inv()\n",
    "\n",
    "bs = Matrix([b1, b2, b3, b4])\n",
    "Au = T4 @ bs\n",
    "\n",
    "# Replace in Sigma4_\n",
    "Sigma6_5 = Sigma6u.subs(A0u, Au[0]).subs(A1u, Au[1]).subs(A2u, Au[2]).subs(h, 1)\n",
    "\n",
    "Sigma6_5subs = Sigma6_5.subs(c1, 1).subs(c12, -1/12).subs(c1112, 1/720).subs(c113, 1/360).subs(c23, 1/240).subs(c212, -1/240).subs(c3, 1/12)\n",
    "simplify(Sigma6_5subs)"
   ]
  },
  {
   "cell_type": "markdown",
   "metadata": {},
   "source": [
    "Where we obtain the terms $-\\frac{3}{240} b_1 b_4+ \\frac{3}{240} b_4 b_1 = -\\frac{1}{80}[b_1, b_4]$"
   ]
  },
  {
   "cell_type": "markdown",
   "metadata": {},
   "source": [
    "# Bounding the error of the product of exponentials"
   ]
  },
  {
   "cell_type": "code",
   "execution_count": 32,
   "metadata": {},
   "outputs": [
    {
     "data": {
      "text/plain": [
       "[[1, 1, 1, 1, 1],\n",
       " [1, 1, 1, 2],\n",
       " [1, 1, 2, 1],\n",
       " [1, 1, 3],\n",
       " [1, 2, 1, 1],\n",
       " [1, 2, 2],\n",
       " [1, 3, 1],\n",
       " [1, 4],\n",
       " [2, 1, 1, 1],\n",
       " [2, 1, 2],\n",
       " [2, 2, 1],\n",
       " [2, 3],\n",
       " [3, 1, 1],\n",
       " [3, 2],\n",
       " [4, 1],\n",
       " [5]]"
      ]
     },
     "execution_count": 32,
     "metadata": {},
     "output_type": "execute_result"
    }
   ],
   "source": [
    "n = 5\n",
    "s = 2\n",
    "# Recursively generate the compositions of an integer n where each term has maximum value s\n",
    "def compositions(n,s):\n",
    "    r\"\"\"\n",
    "    n: integers up to which compositions add up\n",
    "    s: maximum value of each term in the composition\n",
    "    \"\"\"\n",
    "    if n == 1:\n",
    "        return [[1]]\n",
    "    else:\n",
    "        comps = []\n",
    "        for i in range(1, n):\n",
    "            for comp in compositions(n-i):\n",
    "                comps.append([i] + comp)\n",
    "        comps.append([n])\n",
    "\n",
    "    new_comps = []\n",
    "    for c in comps:\n",
    "        if max(np.array(c)) <= s:\n",
    "            new_comps.append(c)\n",
    "\n",
    "    return new_comps\n",
    "\n",
    "\n",
    "comps = compositions(n)\n",
    "\n",
    "comps\n",
    "\n",
    "# Given the "
   ]
  },
  {
   "cell_type": "code",
   "execution_count": 33,
   "metadata": {},
   "outputs": [
    {
     "name": "stdout",
     "output_type": "stream",
     "text": [
      "[[1, 1, 1, 1, 1], [1, 1, 1, 2], [1, 1, 2, 1], [1, 2, 1, 1], [1, 2, 2], [2, 1, 1, 1], [2, 1, 2], [2, 2, 1]]\n"
     ]
    }
   ],
   "source": [
    "import numpy as np\n",
    "new_comps = []\n",
    "for c in comps:\n",
    "    if max(np.array(c)) <= s:\n",
    "        new_comps.append(c)\n",
    "\n",
    "print(new_comps)"
   ]
  },
  {
   "cell_type": "markdown",
   "metadata": {},
   "source": [
    "# Unused"
   ]
  },
  {
   "cell_type": "markdown",
   "metadata": {},
   "source": [
    "## Expansion in terms of the generators"
   ]
  },
  {
   "cell_type": "code",
   "execution_count": 11,
   "metadata": {},
   "outputs": [
    {
     "data": {
      "text/latex": [
       "$\\displaystyle \\left(\\sum_{j=0}^{s} a_{j}\\right)^{k}$"
      ],
      "text/plain": [
       "Sum(a_j, (j, 0, s))**k"
      ]
     },
     "execution_count": 11,
     "metadata": {},
     "output_type": "execute_result"
    }
   ],
   "source": [
    "from sympy.functions.combinatorial.numbers import bernoulli\n",
    "from sympy import symbols, Function, Sum, oo, factorial, Product\n",
    "#a = bernoulli(12)\n",
    "#a\n",
    "\n",
    "t, h, s, k = symbols(\"t,h,s,k\")\n",
    "m, x_ij = symbols('m, x_{ij}')\n",
    "x, i, j, t_12 = symbols('x i j t_{1/2}')\n",
    "a_j = Operator(\"a_j\")\n",
    "f = Function(\"f\")\n",
    "\n",
    "A = Sum(a_j, (j, 0, s))**k\n",
    "expand(A)\n"
   ]
  },
  {
   "cell_type": "code",
   "execution_count": 34,
   "metadata": {},
   "outputs": [
    {
     "data": {
      "text/latex": [
       "$\\displaystyle \\begin{cases} s^{2} x_{ij}^{2} a_{j}^{2} & \\text{for}\\: h = 1 \\\\\\frac{x_{ij}^{2} \\left(h - h^{s + 1}\\right)^{2} a_{j}^{2}}{\\left(h - 1\\right)^{2}} & \\text{otherwise} \\end{cases}$"
      ],
      "text/plain": [
       "Piecewise((s**2*x_{ij}**2*a_j**2, Eq(h, 1)), (x_{ij}**2*(h - h**(s + 1))**2*a_j**2/(h - 1)**2, True))"
      ]
     },
     "execution_count": 34,
     "metadata": {},
     "output_type": "execute_result"
    }
   ],
   "source": [
    "expand((Sum(x_ij*a_j*h**j, (j, 1, s)))**k)"
   ]
  },
  {
   "cell_type": "code",
   "execution_count": 29,
   "metadata": {},
   "outputs": [
    {
     "data": {
      "text/latex": [
       "$\\displaystyle \\sum_{k=1}^{m} \\frac{\\left(\\sum_{j=1}^{s} h^{j} x_{ij} a_{j}\\right)^{k}}{k!}$"
      ],
      "text/plain": [
       "Sum(Sum(h**j*x_{ij}*a_j, (j, 1, s))**k/factorial(k), (k, 1, m))"
      ]
     },
     "metadata": {},
     "output_type": "display_data"
    }
   ],
   "source": [
    "m = symbols('m')\n",
    "\n",
    "B = []\n",
    "A = Sum( (Sum(x_ij*a_j*h**j, (j, 1, s)))**k/(factorial(k)), (k, 1, m))\n",
    "display(A)\n",
    "\n",
    "\n",
    "#A = Product(B[i], (i, 1, 3))\n",
    "\n",
    "#A.series(h, 0, n=5)\n"
   ]
  },
  {
   "cell_type": "code",
   "execution_count": 30,
   "metadata": {},
   "outputs": [
    {
     "ename": "AttributeError",
     "evalue": "'Operator' object has no attribute 'name'",
     "output_type": "error",
     "traceback": [
      "\u001b[0;31m---------------------------------------------------------------------------\u001b[0m",
      "\u001b[0;31mAttributeError\u001b[0m                            Traceback (most recent call last)",
      "\u001b[1;32m/Users/pablo.casares/Developer/Magnus/magnus.ipynb Celda 68\u001b[0m line \u001b[0;36m1\n\u001b[0;32m----> <a href='vscode-notebook-cell:/Users/pablo.casares/Developer/Magnus/magnus.ipynb#Y141sZmlsZQ%3D%3D?line=0'>1</a>\u001b[0m A \u001b[39m=\u001b[39m collect(expand(A), h, evaluate \u001b[39m=\u001b[39;49m \u001b[39mFalse\u001b[39;49;00m)\n\u001b[1;32m      <a href='vscode-notebook-cell:/Users/pablo.casares/Developer/Magnus/magnus.ipynb#Y141sZmlsZQ%3D%3D?line=1'>2</a>\u001b[0m display(A)\n",
      "File \u001b[0;32m~/miniforge3/envs/magnus/lib/python3.12/site-packages/sympy/simplify/radsimp.py:425\u001b[0m, in \u001b[0;36mcollect\u001b[0;34m(expr, syms, func, evaluate, exact, distribute_order_term)\u001b[0m\n\u001b[1;32m    423\u001b[0m     terms \u001b[39m=\u001b[39m \u001b[39mlist\u001b[39m(\u001b[39mreversed\u001b[39m(terms))\n\u001b[1;32m    424\u001b[0m     small_first \u001b[39m=\u001b[39m \u001b[39mnot\u001b[39;00m small_first\n\u001b[0;32m--> 425\u001b[0m result \u001b[39m=\u001b[39m parse_expression(terms, symbol)\n\u001b[1;32m    427\u001b[0m \u001b[39mif\u001b[39;00m result \u001b[39mis\u001b[39;00m \u001b[39mnot\u001b[39;00m \u001b[39mNone\u001b[39;00m:\n\u001b[1;32m    428\u001b[0m     \u001b[39mif\u001b[39;00m \u001b[39mnot\u001b[39;00m symbol\u001b[39m.\u001b[39mis_commutative:\n",
      "File \u001b[0;32m~/miniforge3/envs/magnus/lib/python3.12/site-packages/sympy/simplify/radsimp.py:347\u001b[0m, in \u001b[0;36mcollect.<locals>.parse_expression\u001b[0;34m(terms, pattern)\u001b[0m\n\u001b[1;32m    344\u001b[0m \u001b[39mif\u001b[39;00m t_ord \u001b[39mis\u001b[39;00m \u001b[39mnot\u001b[39;00m \u001b[39mNone\u001b[39;00m:\n\u001b[1;32m    345\u001b[0m     has_deriv \u001b[39m=\u001b[39m \u001b[39mTrue\u001b[39;00m\n\u001b[0;32m--> 347\u001b[0m \u001b[39mif\u001b[39;00m (term\u001b[39m.\u001b[39;49mmatch(elem) \u001b[39mis\u001b[39;00m \u001b[39mnot\u001b[39;00m \u001b[39mNone\u001b[39;00m \u001b[39mand\u001b[39;00m\n\u001b[1;32m    348\u001b[0m         (t_sym \u001b[39m==\u001b[39m e_sym \u001b[39mor\u001b[39;00m t_sym \u001b[39mis\u001b[39;00m \u001b[39mnot\u001b[39;00m \u001b[39mNone\u001b[39;00m \u001b[39mand\u001b[39;00m\n\u001b[1;32m    349\u001b[0m         e_sym \u001b[39mis\u001b[39;00m \u001b[39mnot\u001b[39;00m \u001b[39mNone\u001b[39;00m \u001b[39mand\u001b[39;00m\n\u001b[1;32m    350\u001b[0m         t_sym\u001b[39m.\u001b[39mmatch(e_sym) \u001b[39mis\u001b[39;00m \u001b[39mnot\u001b[39;00m \u001b[39mNone\u001b[39;00m)):\n\u001b[1;32m    351\u001b[0m     \u001b[39mif\u001b[39;00m exact \u001b[39mis\u001b[39;00m \u001b[39mFalse\u001b[39;00m:\n\u001b[1;32m    352\u001b[0m         \u001b[39m# we don't have to be exact so find common exponent\u001b[39;00m\n\u001b[1;32m    353\u001b[0m         \u001b[39m# for both expression's term and pattern's element\u001b[39;00m\n\u001b[1;32m    354\u001b[0m         expo \u001b[39m=\u001b[39m t_rat \u001b[39m/\u001b[39m e_rat\n",
      "File \u001b[0;32m~/miniforge3/envs/magnus/lib/python3.12/site-packages/sympy/core/basic.py:1791\u001b[0m, in \u001b[0;36mBasic.match\u001b[0;34m(self, pattern, old)\u001b[0m\n\u001b[1;32m   1789\u001b[0m \u001b[39m# match non-bound symbols\u001b[39;00m\n\u001b[1;32m   1790\u001b[0m canonical \u001b[39m=\u001b[39m \u001b[39mlambda\u001b[39;00m x: x \u001b[39mif\u001b[39;00m x\u001b[39m.\u001b[39mis_Symbol \u001b[39melse\u001b[39;00m x\u001b[39m.\u001b[39mas_dummy()\n\u001b[0;32m-> 1791\u001b[0m m \u001b[39m=\u001b[39m canonical(pattern)\u001b[39m.\u001b[39mmatches(canonical(\u001b[39mself\u001b[39;49m), old\u001b[39m=\u001b[39mold)\n\u001b[1;32m   1792\u001b[0m \u001b[39mif\u001b[39;00m m \u001b[39mis\u001b[39;00m \u001b[39mNone\u001b[39;00m:\n\u001b[1;32m   1793\u001b[0m     \u001b[39mreturn\u001b[39;00m m\n",
      "File \u001b[0;32m~/miniforge3/envs/magnus/lib/python3.12/site-packages/sympy/core/basic.py:1790\u001b[0m, in \u001b[0;36mBasic.match.<locals>.<lambda>\u001b[0;34m(x)\u001b[0m\n\u001b[1;32m   1788\u001b[0m pattern \u001b[39m=\u001b[39m sympify(pattern)\n\u001b[1;32m   1789\u001b[0m \u001b[39m# match non-bound symbols\u001b[39;00m\n\u001b[0;32m-> 1790\u001b[0m canonical \u001b[39m=\u001b[39m \u001b[39mlambda\u001b[39;00m x: x \u001b[39mif\u001b[39;00m x\u001b[39m.\u001b[39mis_Symbol \u001b[39melse\u001b[39;00m x\u001b[39m.\u001b[39;49mas_dummy()\n\u001b[1;32m   1791\u001b[0m m \u001b[39m=\u001b[39m canonical(pattern)\u001b[39m.\u001b[39mmatches(canonical(\u001b[39mself\u001b[39m), old\u001b[39m=\u001b[39mold)\n\u001b[1;32m   1792\u001b[0m \u001b[39mif\u001b[39;00m m \u001b[39mis\u001b[39;00m \u001b[39mNone\u001b[39;00m:\n",
      "File \u001b[0;32m~/miniforge3/envs/magnus/lib/python3.12/site-packages/sympy/core/basic.py:633\u001b[0m, in \u001b[0;36mBasic.as_dummy\u001b[0;34m(self)\u001b[0m\n\u001b[1;32m    631\u001b[0m \u001b[39mif\u001b[39;00m \u001b[39mnot\u001b[39;00m \u001b[39mself\u001b[39m\u001b[39m.\u001b[39mhas(Symbol):\n\u001b[1;32m    632\u001b[0m     \u001b[39mreturn\u001b[39;00m \u001b[39mself\u001b[39m\n\u001b[0;32m--> 633\u001b[0m \u001b[39mreturn\u001b[39;00m \u001b[39mself\u001b[39;49m\u001b[39m.\u001b[39;49mreplace(\n\u001b[1;32m    634\u001b[0m     \u001b[39mlambda\u001b[39;49;00m x: \u001b[39mhasattr\u001b[39;49m(x, \u001b[39m'\u001b[39;49m\u001b[39mbound_symbols\u001b[39;49m\u001b[39m'\u001b[39;49m),\n\u001b[1;32m    635\u001b[0m     can,\n\u001b[1;32m    636\u001b[0m     simultaneous\u001b[39m=\u001b[39;49m\u001b[39mFalse\u001b[39;49;00m)\n",
      "File \u001b[0;32m~/miniforge3/envs/magnus/lib/python3.12/site-packages/sympy/core/basic.py:1666\u001b[0m, in \u001b[0;36mBasic.replace\u001b[0;34m(self, query, value, map, simultaneous, exact)\u001b[0m\n\u001b[1;32m   1663\u001b[0m             expr \u001b[39m=\u001b[39m v\n\u001b[1;32m   1664\u001b[0m     \u001b[39mreturn\u001b[39;00m expr\n\u001b[0;32m-> 1666\u001b[0m rv \u001b[39m=\u001b[39m walk(\u001b[39mself\u001b[39;49m, rec_replace)\n\u001b[1;32m   1667\u001b[0m \u001b[39mreturn\u001b[39;00m (rv, mapping) \u001b[39mif\u001b[39;00m \u001b[39mmap\u001b[39m \u001b[39melse\u001b[39;00m rv\n",
      "File \u001b[0;32m~/miniforge3/envs/magnus/lib/python3.12/site-packages/sympy/core/basic.py:1641\u001b[0m, in \u001b[0;36mBasic.replace.<locals>.walk\u001b[0;34m(rv, F)\u001b[0m\n\u001b[1;32m   1639\u001b[0m \u001b[39mif\u001b[39;00m args \u001b[39mis\u001b[39;00m \u001b[39mnot\u001b[39;00m \u001b[39mNone\u001b[39;00m:\n\u001b[1;32m   1640\u001b[0m     \u001b[39mif\u001b[39;00m args:\n\u001b[0;32m-> 1641\u001b[0m         newargs \u001b[39m=\u001b[39m \u001b[39mtuple\u001b[39m([walk(a, F) \u001b[39mfor\u001b[39;00m a \u001b[39min\u001b[39;00m args])\n\u001b[1;32m   1642\u001b[0m         \u001b[39mif\u001b[39;00m args \u001b[39m!=\u001b[39m newargs:\n\u001b[1;32m   1643\u001b[0m             rv \u001b[39m=\u001b[39m rv\u001b[39m.\u001b[39mfunc(\u001b[39m*\u001b[39mnewargs)\n",
      "File \u001b[0;32m~/miniforge3/envs/magnus/lib/python3.12/site-packages/sympy/core/basic.py:1641\u001b[0m, in \u001b[0;36mBasic.replace.<locals>.walk\u001b[0;34m(rv, F)\u001b[0m\n\u001b[1;32m   1639\u001b[0m \u001b[39mif\u001b[39;00m args \u001b[39mis\u001b[39;00m \u001b[39mnot\u001b[39;00m \u001b[39mNone\u001b[39;00m:\n\u001b[1;32m   1640\u001b[0m     \u001b[39mif\u001b[39;00m args:\n\u001b[0;32m-> 1641\u001b[0m         newargs \u001b[39m=\u001b[39m \u001b[39mtuple\u001b[39m([walk(a, F) \u001b[39mfor\u001b[39;00m a \u001b[39min\u001b[39;00m args])\n\u001b[1;32m   1642\u001b[0m         \u001b[39mif\u001b[39;00m args \u001b[39m!=\u001b[39m newargs:\n\u001b[1;32m   1643\u001b[0m             rv \u001b[39m=\u001b[39m rv\u001b[39m.\u001b[39mfunc(\u001b[39m*\u001b[39mnewargs)\n",
      "File \u001b[0;32m~/miniforge3/envs/magnus/lib/python3.12/site-packages/sympy/core/basic.py:1641\u001b[0m, in \u001b[0;36mBasic.replace.<locals>.walk\u001b[0;34m(rv, F)\u001b[0m\n\u001b[1;32m   1639\u001b[0m \u001b[39mif\u001b[39;00m args \u001b[39mis\u001b[39;00m \u001b[39mnot\u001b[39;00m \u001b[39mNone\u001b[39;00m:\n\u001b[1;32m   1640\u001b[0m     \u001b[39mif\u001b[39;00m args:\n\u001b[0;32m-> 1641\u001b[0m         newargs \u001b[39m=\u001b[39m \u001b[39mtuple\u001b[39m([walk(a, F) \u001b[39mfor\u001b[39;00m a \u001b[39min\u001b[39;00m args])\n\u001b[1;32m   1642\u001b[0m         \u001b[39mif\u001b[39;00m args \u001b[39m!=\u001b[39m newargs:\n\u001b[1;32m   1643\u001b[0m             rv \u001b[39m=\u001b[39m rv\u001b[39m.\u001b[39mfunc(\u001b[39m*\u001b[39mnewargs)\n",
      "File \u001b[0;32m~/miniforge3/envs/magnus/lib/python3.12/site-packages/sympy/core/basic.py:1651\u001b[0m, in \u001b[0;36mBasic.replace.<locals>.walk\u001b[0;34m(rv, F)\u001b[0m\n\u001b[1;32m   1649\u001b[0m                     \u001b[39mif\u001b[39;00m rv \u001b[39m==\u001b[39m e \u001b[39mand\u001b[39;00m e \u001b[39m!=\u001b[39m newargs[i]:\n\u001b[1;32m   1650\u001b[0m                         \u001b[39mreturn\u001b[39;00m rv\n\u001b[0;32m-> 1651\u001b[0m     rv \u001b[39m=\u001b[39m F(rv)\n\u001b[1;32m   1652\u001b[0m \u001b[39mreturn\u001b[39;00m rv\n",
      "File \u001b[0;32m~/miniforge3/envs/magnus/lib/python3.12/site-packages/sympy/core/basic.py:1659\u001b[0m, in \u001b[0;36mBasic.replace.<locals>.rec_replace\u001b[0;34m(expr)\u001b[0m\n\u001b[1;32m   1657\u001b[0m result \u001b[39m=\u001b[39m _query(expr)\n\u001b[1;32m   1658\u001b[0m \u001b[39mif\u001b[39;00m result \u001b[39mor\u001b[39;00m result \u001b[39m==\u001b[39m {}:\n\u001b[0;32m-> 1659\u001b[0m     v \u001b[39m=\u001b[39m _value(expr, result)\n\u001b[1;32m   1660\u001b[0m     \u001b[39mif\u001b[39;00m v \u001b[39mis\u001b[39;00m \u001b[39mnot\u001b[39;00m \u001b[39mNone\u001b[39;00m \u001b[39mand\u001b[39;00m v \u001b[39m!=\u001b[39m expr:\n\u001b[1;32m   1661\u001b[0m         \u001b[39mif\u001b[39;00m \u001b[39mmap\u001b[39m:\n",
      "File \u001b[0;32m~/miniforge3/envs/magnus/lib/python3.12/site-packages/sympy/core/basic.py:1625\u001b[0m, in \u001b[0;36mBasic.replace.<locals>.<lambda>\u001b[0;34m(expr, result)\u001b[0m\n\u001b[1;32m   1622\u001b[0m _query \u001b[39m=\u001b[39m query\n\u001b[1;32m   1624\u001b[0m \u001b[39mif\u001b[39;00m \u001b[39mcallable\u001b[39m(value):\n\u001b[0;32m-> 1625\u001b[0m     _value \u001b[39m=\u001b[39m \u001b[39mlambda\u001b[39;00m expr, result: value(expr)\n\u001b[1;32m   1626\u001b[0m \u001b[39melse\u001b[39;00m:\n\u001b[1;32m   1627\u001b[0m     \u001b[39mraise\u001b[39;00m \u001b[39mTypeError\u001b[39;00m(\n\u001b[1;32m   1628\u001b[0m         \u001b[39m\"\u001b[39m\u001b[39mgiven a callable, replace() expects \u001b[39m\u001b[39m\"\u001b[39m\n\u001b[1;32m   1629\u001b[0m         \u001b[39m\"\u001b[39m\u001b[39manother callable\u001b[39m\u001b[39m\"\u001b[39m)\n",
      "File \u001b[0;32m~/miniforge3/envs/magnus/lib/python3.12/site-packages/sympy/core/basic.py:628\u001b[0m, in \u001b[0;36mBasic.as_dummy.<locals>.can\u001b[0;34m(x)\u001b[0m\n\u001b[1;32m    626\u001b[0m x \u001b[39m=\u001b[39m x\u001b[39m.\u001b[39msubs(d)\n\u001b[1;32m    627\u001b[0m \u001b[39m# replace bound with canonical names\u001b[39;00m\n\u001b[0;32m--> 628\u001b[0m x \u001b[39m=\u001b[39m x\u001b[39m.\u001b[39mxreplace(x\u001b[39m.\u001b[39;49mcanonical_variables)\n\u001b[1;32m    629\u001b[0m \u001b[39m# return after undoing masking\u001b[39;00m\n\u001b[1;32m    630\u001b[0m \u001b[39mreturn\u001b[39;00m x\u001b[39m.\u001b[39mxreplace({v: k \u001b[39mfor\u001b[39;00m k, v \u001b[39min\u001b[39;00m d\u001b[39m.\u001b[39mitems()})\n",
      "File \u001b[0;32m~/miniforge3/envs/magnus/lib/python3.12/site-packages/sympy/core/basic.py:659\u001b[0m, in \u001b[0;36mBasic.canonical_variables\u001b[0;34m(self)\u001b[0m\n\u001b[1;32m    656\u001b[0m \u001b[39m# watch out for free symbol that are not in bound symbols;\u001b[39;00m\n\u001b[1;32m    657\u001b[0m \u001b[39m# those that are in bound symbols are about to get changed\u001b[39;00m\n\u001b[1;32m    658\u001b[0m bound \u001b[39m=\u001b[39m \u001b[39mself\u001b[39m\u001b[39m.\u001b[39mbound_symbols\n\u001b[0;32m--> 659\u001b[0m names \u001b[39m=\u001b[39m {i\u001b[39m.\u001b[39;49mname \u001b[39mfor\u001b[39;00m i \u001b[39min\u001b[39;00m \u001b[39mself\u001b[39m\u001b[39m.\u001b[39mfree_symbols \u001b[39m-\u001b[39m \u001b[39mset\u001b[39m(bound)}\n\u001b[1;32m    660\u001b[0m \u001b[39mfor\u001b[39;00m b \u001b[39min\u001b[39;00m bound:\n\u001b[1;32m    661\u001b[0m     d \u001b[39m=\u001b[39m \u001b[39mnext\u001b[39m(dums)\n",
      "\u001b[0;31mAttributeError\u001b[0m: 'Operator' object has no attribute 'name'"
     ]
    }
   ],
   "source": [
    "A = collect(expand(A), h, evaluate = False)\n",
    "display(A)\n"
   ]
  },
  {
   "cell_type": "code",
   "execution_count": 11,
   "metadata": {},
   "outputs": [],
   "source": [
    "Omega = Function('Omega')(i)\n",
    "\n",
    "# Define the recursive relationship for S_i\n",
    "Omega = Eq(Omega(i), Omega(i-1) / i)"
   ]
  },
  {
   "cell_type": "code",
   "execution_count": 20,
   "metadata": {},
   "outputs": [
    {
     "name": "stdout",
     "output_type": "stream",
     "text": [
      "pi**2*t/6\n"
     ]
    }
   ],
   "source": [
    "# Define the series S with recursively defined terms\n",
    "S_series = Sum(t / i**2, (i, 1, oo))\n",
    "print(str(S_series))\n"
   ]
  },
  {
   "cell_type": "code",
   "execution_count": 69,
   "metadata": {},
   "outputs": [
    {
     "data": {
      "text/latex": [
       "$\\displaystyle - \\frac{4 \\sqrt{17}}{17 \\left(\\frac{\\sqrt{17}}{8} + \\frac{7}{8}\\right)} + \\frac{4 \\sqrt{17}}{17 \\cdot \\left(\\frac{7}{8} - \\frac{\\sqrt{17}}{8}\\right)}$"
      ],
      "text/plain": [
       "-4*sqrt(17)/(17*(sqrt(17)/8 + 7/8)) + 4*sqrt(17)/(17*(7/8 - sqrt(17)/8))"
      ]
     },
     "execution_count": 69,
     "metadata": {},
     "output_type": "execute_result"
    }
   ],
   "source": [
    "from sympy import Function, symbols, rsolve, Eq, summation, oo\n",
    "\n",
    "y = Function(\"y\")\n",
    "n = symbols(\"n\")\n",
    "\n",
    "# Define the recursive relation for the Fibonacci sequence\n",
    "fib_relation = Eq(y(n), y(n - 1)/4 + y(n - 2)/4)\n",
    "\n",
    "# Find the closed-form expression for y(n)\n",
    "solution = rsolve(fib_relation, y(n), {y(0): 0, y(1): 1})\n",
    "\n",
    "# Define the sum for an infinite number of terms\n",
    "infinite_sum = summation(solution, (n, 0, oo))\n",
    "\n",
    "infinite_sum"
   ]
  },
  {
   "cell_type": "code",
   "execution_count": null,
   "metadata": {},
   "outputs": [],
   "source": [
    "j = 1\n",
    "l = 2\n"
   ]
  },
  {
   "cell_type": "code",
   "execution_count": null,
   "metadata": {},
   "outputs": [
    {
     "data": {
      "text/plain": [
       "'\\nPsi42 = exp(x11 * b1 * h + x12 * b2 * h**2)*exp(x11 * b1 * h - x12 * b2 * h**2)\\n\\npoly_psi42 = simplify(Psi42.series(h, 0, n=7))\\npoly_psi42\\n'"
      ]
     },
     "execution_count": 22,
     "metadata": {},
     "output_type": "execute_result"
    }
   ],
   "source": [
    "# Does not work!\n",
    "'''\n",
    "Psi42 = exp(x11 * b1 * h + x12 * b2 * h**2)*exp(x11 * b1 * h - x12 * b2 * h**2)\n",
    "\n",
    "poly_psi42 = simplify(Psi42.series(h, 0, n=7))\n",
    "poly_psi42\n",
    "'''"
   ]
  },
  {
   "cell_type": "code",
   "execution_count": null,
   "metadata": {},
   "outputs": [
    {
     "ename": "NameError",
     "evalue": "name 'coeff_Psi42' is not defined",
     "output_type": "error",
     "traceback": [
      "\u001b[0;31m---------------------------------------------------------------------------\u001b[0m",
      "\u001b[0;31mNameError\u001b[0m                                 Traceback (most recent call last)",
      "\u001b[1;32m/Users/pablo.casares/Developer/Magnus/magnus.ipynb Celda 36\u001b[0m line \u001b[0;36m1\n\u001b[0;32m----> <a href='vscode-notebook-cell:/Users/pablo.casares/Developer/Magnus/magnus.ipynb#X45sZmlsZQ%3D%3D?line=0'>1</a>\u001b[0m \u001b[39mfor\u001b[39;00m k, vPsi42 \u001b[39min\u001b[39;00m coeff_Psi42\u001b[39m.\u001b[39mitems():\n\u001b[1;32m      <a href='vscode-notebook-cell:/Users/pablo.casares/Developer/Magnus/magnus.ipynb#X45sZmlsZQ%3D%3D?line=1'>2</a>\u001b[0m     \u001b[39mprint\u001b[39m(k)\n\u001b[1;32m      <a href='vscode-notebook-cell:/Users/pablo.casares/Developer/Magnus/magnus.ipynb#X45sZmlsZQ%3D%3D?line=2'>3</a>\u001b[0m     vM4 \u001b[39m=\u001b[39m coeff_M4[k]\n",
      "\u001b[0;31mNameError\u001b[0m: name 'coeff_Psi42' is not defined"
     ]
    }
   ],
   "source": [
    "for k, vPsi42 in coeff_Psi42.items():\n",
    "    print(k)\n",
    "    vM4 = coeff_M4[k]\n",
    "    solution = solve((vM4, vPsi42), x11, x12)\n",
    "    print(solution)\n"
   ]
  },
  {
   "cell_type": "code",
   "execution_count": null,
   "metadata": {},
   "outputs": [
    {
     "data": {
      "text/latex": [
       "$\\displaystyle e^{2 h x_{1,1} b_{1}}$"
      ],
      "text/plain": [
       "exp(2*h*x_{1,1}*b1)"
      ]
     },
     "execution_count": 39,
     "metadata": {},
     "output_type": "execute_result"
    }
   ],
   "source": [
    "coeff_dict"
   ]
  },
  {
   "cell_type": "code",
   "execution_count": null,
   "metadata": {},
   "outputs": [
    {
     "data": {
      "text/latex": [
       "$\\displaystyle \\frac{315 + 630 h^{2} x_{1,2} b_{2} + 630 h^{4} x_{1,2}^{2} b_{2}^{2} + 420 h^{6} x_{1,2}^{3} b_{2}^{3} + 210 h^{8} x_{1,2}^{4} b_{2}^{4} + 84 h^{10} x_{1,2}^{5} b_{2}^{5} + 28 h^{12} x_{1,2}^{6} b_{2}^{6} + 8 h^{14} x_{1,2}^{7} b_{2}^{7} + O\\left(h^{15}\\right)}{315}$"
      ],
      "text/plain": [
       "(315 + 630*h**2*x_{1,2}*b2 + 630*h**4*x_{1,2}**2*b2**2 + 420*h**6*x_{1,2}**3*b2**3 + 210*h**8*x_{1,2}**4*b2**4 + 84*h**10*x_{1,2}**5*b2**5 + 28*h**12*x_{1,2}**6*b2**6 + 8*h**14*x_{1,2}**7*b2**7 + O(h**15))/315"
      ]
     },
     "execution_count": 48,
     "metadata": {},
     "output_type": "execute_result"
    }
   ],
   "source": [
    "Psi_ = exp(x11 * b1 * h + x12 * b2 * h**2)*exp(-x11 * b1 * h + x12 * b2 * h**2)\n",
    "\n",
    "poly_psi_= simplify(Psi_.series(h, 0, n=15))\n",
    "poly_psi_"
   ]
  },
  {
   "cell_type": "code",
   "execution_count": null,
   "metadata": {},
   "outputs": [],
   "source": []
  }
 ],
 "metadata": {
  "kernelspec": {
   "display_name": "Python 3",
   "language": "python",
   "name": "python3"
  },
  "language_info": {
   "codemirror_mode": {
    "name": "ipython",
    "version": 3
   },
   "file_extension": ".py",
   "mimetype": "text/x-python",
   "name": "python",
   "nbconvert_exporter": "python",
   "pygments_lexer": "ipython3",
   "version": "3.12.0"
  }
 },
 "nbformat": 4,
 "nbformat_minor": 2
}
