{
 "cells": [
  {
   "cell_type": "code",
   "execution_count": 1,
   "metadata": {},
   "outputs": [],
   "source": [
    "import scipy\n",
    "import numpy as np\n",
    "from sympy.utilities.iterables import multiset_partitions, partitions\n",
    "from itertools import permutations\n",
    "# plot the bn values\n",
    "import matplotlib.pyplot as plt\n",
    "from tqdm import tqdm\n",
    "import jax.numpy as jnp\n",
    "import jax\n",
    "import math\n",
    "from tqdm import tqdm"
   ]
  },
  {
   "cell_type": "markdown",
   "metadata": {},
   "source": [
    "# Computing the norm of $\\|\\Psi^{[2s]}_{m,p}\\|$"
   ]
  },
  {
   "cell_type": "code",
   "execution_count": 2,
   "metadata": {},
   "outputs": [],
   "source": [
    "factorial = {}\n",
    "for i in range(100):\n",
    "    factorial[i] = np.longdouble(math.factorial(i))"
   ]
  },
  {
   "cell_type": "markdown",
   "metadata": {},
   "source": [
    "We define the parameters we are interested in:"
   ]
  },
  {
   "cell_type": "code",
   "execution_count": 11,
   "metadata": {},
   "outputs": [],
   "source": [
    "s = 3\n",
    "maxp = 20\n",
    "m = 6\n",
    "h = 1/(4*m) #1/(4*m)\n",
    "if m == 2:\n",
    "    assert(s==2)\n",
    "    cs = [[1/2, 1/6], [1/2, 1/6]]\n",
    "if m == 3:\n",
    "    assert(s==2)\n",
    "    cs = [[0, 1/12], [1, 0], [0, 1/12]]\n",
    "elif m == 5:\n",
    "    assert(s==3)\n",
    "    cs = [[0.2, 0.08734395950888931101, 0.03734395950888931101], \n",
    "        [0.34815492558797391479, 0.053438272547684150, 0.00584269157837031012],\n",
    "        [abs(1-2*(0.2+0.34815492558797391479)), 0, abs(1/12-2*(0.03734395950888931101 + 0.00584269157837031012))],\n",
    "        [0.34815492558797391479, 0.053438272547684150, 0.00584269157837031012],\n",
    "        [0.2, 0.08734395950888931101, 0.03734395950888931101]]\n",
    "elif m == 6:\n",
    "    assert(s==3)\n",
    "    cs = [[0.208, 0.09023186422416794596, 0.03823186422416794596], \n",
    "        [0.312, 0.04467385661651479788, 0.00439421553992544024],\n",
    "        [abs(1/2-(0.208 + 0.09023186422416794596)), 0.01407960659498524468, abs(1/24-(0.03823186422416794596+0.00439421553992544024))],\n",
    "        [abs(1/2-(0.208 + 0.09023186422416794596)), 0.01407960659498524468, abs(1/24-(0.03823186422416794596+0.00439421553992544024))],\n",
    "        [0.312, 0.04467385661651479788, 0.00439421553992544024],\n",
    "        [0.208, 0.09023186422416794596, 0.03823186422416794596]]\n",
    "elif m == 11:\n",
    "    assert(s==4)\n",
    "    cs = [\n",
    "        [0.169715531043933180094151, 0.152866146944615909929839, 0.119167378745981369601216, 0.068619226448029559107538],\n",
    "        [0.379420807516005431504230, 0.148839980923180990943008, 0.115880829186628075021088, 0.188555246668412628269760],\n",
    "        [0.469459306644050573017994, 0.379844237839363505173921, 0.022898814729462898505141, 0.571855043580130805495594],\n",
    "        [0.448225927391070886302766, 0.362889857410989942809900, 0.022565582830528472333301, 0.544507517141613383517695],\n",
    "        [0.293924473106317605373923, 0.026255628265819381983204, 0.096761509131620390100068, 0.000018330145571671744069],\n",
    "        [0.447109510586798614120629, 0, 0.200762581179816221704073, 0],\n",
    "        [0.293924473106317605373923, 0.026255628265819381983204, 0.096761509131620390100068, 0.000018330145571671744069],\n",
    "        [0.448225927391070886302766, 0.362889857410989942809900, 0.022565582830528472333301, 0.544507517141613383517695],\n",
    "        [0.469459306644050573017994, 0.379844237839363505173921, 0.022898814729462898505141, 0.571855043580130805495594],\n",
    "        [0.379420807516005431504230, 0.148839980923180990943008, 0.115880829186628075021088, 0.188555246668412628269760],\n",
    "        [0.169715531043933180094151, 0.152866146944615909929839, 0.119167378745981369601216, 0.068619226448029559107538]\n",
    "        ]"
   ]
  },
  {
   "cell_type": "markdown",
   "metadata": {},
   "source": [
    "We need two key functions `efficient_number_compositions` and `efficient_weak_compositions`"
   ]
  },
  {
   "cell_type": "code",
   "execution_count": 4,
   "metadata": {},
   "outputs": [],
   "source": [
    "def efficient_number_compositions(p, s):\n",
    "    r\"\"\"\n",
    "    p: integers up to which compositions add up\n",
    "    s: maximum value of each term in the composition\n",
    "\n",
    "    Computes a dictionary where the key is the length of the composition,\n",
    "    and the value is the number of compositions of that length.\n",
    "    \"\"\"\n",
    "    pts = partitions(p, k=s)\n",
    "    \n",
    "    comps = {}\n",
    "    for part in pts:\n",
    "        len_ = np.sum(list(part.values()))\n",
    "\n",
    "        num_comps = factorial[len_]\n",
    "        for n in part.values():\n",
    "            num_comps /= factorial[n]\n",
    "\n",
    "        if len_ in comps.keys():\n",
    "            comps[len_] += num_comps\n",
    "        else:\n",
    "            comps[len_] = num_comps\n",
    "\n",
    "    return comps"
   ]
  },
  {
   "cell_type": "code",
   "execution_count": 32,
   "metadata": {},
   "outputs": [
    {
     "name": "stdout",
     "output_type": "stream",
     "text": [
      "m=6, w=0, result=720.0\n",
      "m=6, w=1, result=73.14711648584196\n",
      "m=6, w=2, result=11.242167771290237\n",
      "m=6, w=3, result=1.2640311468138534\n",
      "m=6, w=4, result=0.14928528672831104\n",
      "m=6, w=5, result=0.015443591264099124\n",
      "m=6, w=6, result=0.0016469290671441046\n",
      "m=6, w=7, result=9.720275231769182e-05\n",
      "m=6, w=8, result=6.704968142211123e-06\n",
      "m=6, w=9, result=3.7910828615795877e-07\n",
      "m=6, w=10, result=2.2072913098487436e-08\n",
      "m=6, w=11, result=1.0731278791184764e-09\n",
      "m=6, w=12, result=5.5680185646304536e-11\n",
      "m=6, w=13, result=2.177074819955771e-12\n",
      "m=6, w=14, result=9.173694447291485e-14\n",
      "m=6, w=15, result=3.4025395370427856e-15\n",
      "m=6, w=16, result=1.2602620426565485e-16\n",
      "m=6, w=17, result=4.138755674323608e-18\n",
      "m=6, w=18, result=1.4172907380280127e-19\n",
      "m=6, w=19, result=4.074224450288789e-21\n",
      "m=6, w=20, result=1.2234001899344244e-22\n"
     ]
    }
   ],
   "source": [
    "def partition_to_list(part):\n",
    "    l = []\n",
    "    for k, v in part.items():\n",
    "        l += [k]*v\n",
    "    return l\n",
    "\n",
    "\n",
    "def add_term(m, mean_cs, part):\n",
    "    part_ = partition_to_list(part)\n",
    "    part_ = part_ + [0]*(m-len(part_))\n",
    "    perms = permutations(part_)\n",
    "                \n",
    "    add_term = np.longdouble(0)\n",
    "    for per in perms:\n",
    "        add_term += np.prod([mean_cs[i]**per[i]/factorial[per[i]] for i in range(len(per))])\n",
    "    return add_term\n",
    "\n",
    "def efficient_weak_compositions(maxw, list_m, list_cs, use_max = True):\n",
    "    r\"\"\"\n",
    "    Computes sum{k_1...k_m\\in weak_compositions} c^{k_1}/k_1!...c^{k_m}/k_m!) for all weak compositions of length m.\n",
    "    Depending on the value of `use_max`, it uses either the maximum value of c for all at once (faster) or the specific values of c,\n",
    "    (more accurate).\n",
    "\n",
    "    maxw: maximum value of the sum of the weak composition\n",
    "    list_m: list of the possible values of m.\n",
    "    list_cs: list of the possible values of cs.\n",
    "    use_max: if True, use the maximum value of cs instead of the specific values of cs. Faster but less accurate.\n",
    "    \"\"\"\n",
    "\n",
    "    weak_comps = {}\n",
    "    for m, cs in zip(list_m, list_cs):\n",
    "\n",
    "        vector_add_term = np.vectorize(lambda part: add_term(m, mean_cs, part))\n",
    "\n",
    "        max_cs = np.max(cs)\n",
    "        mean_cs = np.mean(cs, axis = 1)\n",
    "\n",
    "        weak_comps[m] = {}\n",
    "        for normw in range(maxw+1):\n",
    "            \n",
    "            suma = np.longdouble(0)\n",
    "\n",
    "            pts = partitions(normw, m=m)\n",
    "\n",
    "            if use_max:\n",
    "                for part in pts:\n",
    "                    len_ = np.sum(list(part.values()))\n",
    "\n",
    "                    num_comps = factorial[m]/factorial[m-len_] * max_cs**len_\n",
    "                    for n in part.values():\n",
    "                        num_comps /= factorial[n]\n",
    "\n",
    "                    denominator = np.longdouble(1)\n",
    "                    for i in part.keys():\n",
    "                        denominator = denominator*factorial[i]\n",
    "\n",
    "                    suma = suma + num_comps/denominator\n",
    "\n",
    "            else:\n",
    "                add = vector_add_term(list(pts))\n",
    "                suma += np.sum(add)\n",
    "\n",
    "            weak_comps[m][normw] = suma\n",
    "\n",
    "    return weak_comps\n",
    "\n",
    "\n",
    "maxw = 20\n",
    "weak_comps = efficient_weak_compositions(maxw, list_m = [m], list_cs = [cs], use_max=False)\n",
    "for normw in range(maxw+1):\n",
    "    print(f'm={m}, w={normw}, result={weak_comps[m][normw]}')"
   ]
  },
  {
   "cell_type": "markdown",
   "metadata": {},
   "source": [
    "Final calculation"
   ]
  },
  {
   "cell_type": "code",
   "execution_count": 7,
   "metadata": {},
   "outputs": [
    {
     "name": "stdout",
     "output_type": "stream",
     "text": [
      "1: 0.08703873139699347, 0.08703873139699347\n",
      "2: 0.009558201160053703, 0.09659693255704718\n",
      "3: 0.0009787548700926263, 0.0975756874271398\n",
      "4: 8.630859781959907e-05, 0.0976619960249594\n",
      "5: 7.556410239295036e-06, 0.09766955243519869\n",
      "6: 6.413007132720286e-07, 0.09767019373591196\n",
      "7: 5.21406942001763e-08, 0.09767024587660617\n",
      "8: 4.141176091661513e-09, 0.09767025001778226\n",
      "9: 3.2045407312889726e-10, 0.09767025033823634\n",
      "10: 2.4318208473478705e-11, 0.09767025036255456\n",
      "11: 1.8155396782699394e-12, 0.09767025036437009\n",
      "12: 1.3369537784265144e-13, 0.09767025036450379\n",
      "13: 9.740230435300974e-15, 0.09767025036451353\n",
      "14: 7.038638596730466e-16, 0.09767025036451424\n",
      "15: 5.0464542234809233e-17, 0.0976702503645143\n",
      "16: 3.587815632517645e-18, 0.0976702503645143\n",
      "17: 2.528712955093948e-19, 0.0976702503645143\n",
      "18: 1.7680571474251283e-20, 0.0976702503645143\n",
      "19: 1.2277620102284523e-21, 0.0976702503645143\n",
      "20: 8.47432929480125e-23, 0.0976702503645143\n"
     ]
    }
   ],
   "source": [
    "def summatory_compositions(maxp, s, list_m, list_cs, use_max = True): #todo: better choose between maximum and actual value\n",
    "    r\"\"\"\n",
    "    maxp: maximum order p of the summatory\n",
    "    s: 2s is the order of the Commutator Free Magnus operator\n",
    "    maxc: maximum value of the norm of |x_{i,j}a_j|\n",
    "    cs: list of values |x_{i,j}a_j| for each i,j\n",
    "\n",
    "    Note: you should choose one of cs and maxc, not both.\n",
    "    \"\"\"\n",
    "\n",
    "    weak_comps = efficient_weak_compositions(maxp, list_m, list_cs, use_max)\n",
    "\n",
    "    suma = {}\n",
    "    for p in range(1, maxp+1):\n",
    "        num_comps = efficient_number_compositions(p, s)\n",
    "\n",
    "        suma[p] = np.longdouble(0)\n",
    "        for len_comp, nc in num_comps.items():\n",
    "            suma[p] += nc*weak_comps[m][len_comp] * h**p\n",
    "\n",
    "    return suma\n",
    "\n",
    "sum_compositions = summatory_compositions(maxp, s, [m], [cs], use_max = True)\n",
    "\n",
    "#accumulate sum_compositions\n",
    "acc_sum_compositions = {}\n",
    "acc_sum_compositions[0] = 0\n",
    "for i in range(1, maxp+1):\n",
    "    acc_sum_compositions[i] = acc_sum_compositions[i-1] + sum_compositions[i]\n",
    "\n",
    "\n",
    "for i in range(1, maxp+1):\n",
    "    print(f'{i}: {sum_compositions[i]}, {acc_sum_compositions[i]}')"
   ]
  },
  {
   "cell_type": "markdown",
   "metadata": {},
   "source": [
    "Accumulating the error over all orders $p>2s+1$"
   ]
  },
  {
   "cell_type": "code",
   "execution_count": 8,
   "metadata": {},
   "outputs": [
    {
     "name": "stdout",
     "output_type": "stream",
     "text": [
      "7: 5.21406942001763e-08\n",
      "8: 5.628187029183781e-08\n",
      "9: 5.660232436496671e-08\n",
      "10: 5.662664257344019e-08\n",
      "11: 5.6628458113118454e-08\n",
      "12: 5.66285918084963e-08\n",
      "13: 5.6628601548726736e-08\n",
      "14: 5.6628602252590594e-08\n",
      "15: 5.6628602303055136e-08\n",
      "16: 5.662860230664295e-08\n",
      "17: 5.662860230689582e-08\n",
      "18: 5.6628602306913504e-08\n",
      "19: 5.6628602306914735e-08\n",
      "20: 5.662860230691482e-08\n"
     ]
    }
   ],
   "source": [
    "def acc_from(i, sum_compositions):\n",
    "    \n",
    "    acc_sum_compositions = {}\n",
    "    acc_sum_compositions[i-1] = 0\n",
    "    for i in range(i, maxp+1):\n",
    "        acc_sum_compositions[i] = acc_sum_compositions[i-1] + sum_compositions[i]\n",
    "\n",
    "    return acc_sum_compositions\n",
    "\n",
    "acc_sum_compositions = acc_from(2*s+1, sum_compositions)\n",
    "for i in range(2*s+1, maxp+1):\n",
    "    print(f'{i}: {acc_sum_compositions[i]}')"
   ]
  },
  {
   "cell_type": "markdown",
   "metadata": {},
   "source": [
    "We can compare using both modes in, for $s = 3$ and $m = 5$ and $m = 6:"
   ]
  },
  {
   "cell_type": "code",
   "execution_count": 12,
   "metadata": {},
   "outputs": [
    {
     "name": "stdout",
     "output_type": "stream",
     "text": [
      "7: 1.9826761441780353e-08\n",
      "8: 2.1195662281119414e-08\n",
      "9: 2.1287833070435784e-08\n",
      "10: 2.129391745212139e-08\n",
      "11: 2.1294312404704615e-08\n",
      "12: 2.1294337682074482e-08\n",
      "13: 2.1294339281894766e-08\n",
      "14: 2.1294339382273752e-08\n",
      "15: 2.129433938852205e-08\n",
      "16: 2.1294339388907903e-08\n",
      "17: 2.129433938893154e-08\n",
      "18: 2.1294339388932976e-08\n",
      "19: 2.1294339388933062e-08\n",
      "20: 2.129433938893307e-08\n"
     ]
    }
   ],
   "source": [
    "sum_compositions = summatory_compositions(maxp, s, [m], [cs], use_max = True)\n",
    "\n",
    "acc_sum_compositions = acc_from(2*s+1, sum_compositions)\n",
    "for i in range(2*s+1, maxp+1):\n",
    "    print(f'{i}: {acc_sum_compositions[i]}')"
   ]
  },
  {
   "cell_type": "code",
   "execution_count": 31,
   "metadata": {},
   "outputs": [
    {
     "name": "stdout",
     "output_type": "stream",
     "text": [
      "7: 2.2270680814019967e-09\n",
      "8: 2.2918155165031245e-09\n",
      "9: 2.293493412952103e-09\n",
      "10: 2.293531840383346e-09\n",
      "11: 2.293532836672026e-09\n",
      "12: 2.293532860563087e-09\n",
      "13: 2.293532861107771e-09\n",
      "14: 2.2935328611205704e-09\n",
      "15: 2.2935328611208475e-09\n",
      "16: 2.2935328611208533e-09\n",
      "17: 2.2935328611208533e-09\n",
      "18: 2.2935328611208533e-09\n",
      "19: 2.2935328611208533e-09\n",
      "20: 2.2935328611208533e-09\n"
     ]
    }
   ],
   "source": [
    "sum_compositions = summatory_compositions(maxp, s, [m], [cs], use_max = False)\n",
    "\n",
    "acc_sum_compositions = acc_from(2*s+1, sum_compositions)\n",
    "for i in range(2*s+1, maxp+1):\n",
    "    print(f'{i}: {acc_sum_compositions[i]}')"
   ]
  }
 ],
 "metadata": {
  "kernelspec": {
   "display_name": "magnus",
   "language": "python",
   "name": "python3"
  },
  "language_info": {
   "codemirror_mode": {
    "name": "ipython",
    "version": 3
   },
   "file_extension": ".py",
   "mimetype": "text/x-python",
   "name": "python",
   "nbconvert_exporter": "python",
   "pygments_lexer": "ipython3",
   "version": "3.12.0"
  }
 },
 "nbformat": 4,
 "nbformat_minor": 2
}
